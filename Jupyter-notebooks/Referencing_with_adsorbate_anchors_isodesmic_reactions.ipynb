{
 "cells": [
  {
   "cell_type": "markdown",
   "id": "1a295666",
   "metadata": {},
   "source": [
    "Supplementary notebook to the manuscript \"Unifying thermochemistry concepts in computational heterogeneous catalysis\", by Dr. Bjarne Kreitz (Brown University), Dr. Gabriel Gusmao (Georgia Tech), Dr. David H. Bross (Argonne National Laboratory), Dingqi Nai (Georgia Tech), Jagriti Sahoo (Georgia Tech), Dr. C. Franklin Goldsmith (Brown University), Dr. Andrew J. Medford (Georgia Tech). \n",
    "\n",
    "Correspondence to Bjarne Kreitz (bjarne_kreitz@brown.edu) and Andrew J. Medford (ajm@gatech.edu)"
   ]
  },
  {
   "cell_type": "code",
   "execution_count": 2,
   "id": "e60245c7",
   "metadata": {},
   "outputs": [],
   "source": [
    "import numpy as np\n",
    "import matplotlib.pyplot as plt\n",
    "import matplotlib.gridspec as gridspec\n",
    "\n",
    "eV_to_kJmol=96.485"
   ]
  },
  {
   "cell_type": "markdown",
   "id": "7fc2e346",
   "metadata": {},
   "source": [
    "# Reference QM data to a set of experimental EOF of adsorbates in isodesmic reactions\n",
    "\n",
    "Enthalpies of formation of adsorbates can be anchored to the existing global thermochemical network of gas-phase species through experimental enthalpies of formation of chosen adsorbates. Instead of using an atomic reference basis set, we can use error cancellation reactions that decompose a target into fragments. Through the conservation of bonding environment and hybridization of the target species in the references, it is possible to construct reactions that maximize the cancellation of errors. The easiest fragmentation based approach is based on a isodesmic reaction, which conserve the number of bonds of the target in the references. All adsorbates that are used in the case study can be broken down into the following 10 bond types C-O, C=C, C=O, C-C, C-H, O-H, Pt-C, Pt#C, Pt=C, Pt-O, where - is a single bond, = double bond, # triple bond. Each bond type can be represented by an adsorbate, for which we need the enthalpy of formation anchored to the global gas-phase thermochemical network. \n",
    "Enthalpies of formation of these adsorbates on Pt(111) were derived from experimentally measured heats of adsorption and experimental enthalpies of formation from the ATcT (https://atct.anl.gov/) by Kreitz et al. (https://doi.org/10.1021/acs.jctc.3c00112)\n",
    "\n",
    "\n",
    "| Bond type | species | $$\\Delta_f H\\, /\\, \\text{kJ mol}^{-1}$$ |\n",
    "|----|--- |----------|  \n",
    "| Pt#C  | $$^*CH$$ | -35.8  | \n",
    "| Pt=C  | $$^*CH_2$$ | 46.5  | \n",
    "| Pt-C  | $$^*CH_3$$ | -47.2  | \n",
    "| C-H  | $$CH_4^*$$ | -81.3 | \n",
    "| C=C  | $$C_2H_4^*$$ | 22.1 | \n",
    "| C-C  | $$C_2H_6^*$$ | -96.0 | \n",
    "| O-H  | $$H_2O^*$$ | -267.9 | \n",
    "| Pt-O  | $$^*OH$$ | -164.7 |\n",
    "| C=O  | $$H_2CO^*$$ | -159.3 | \n",
    "| C-O  | $$CH_3OH^*$$ | -245.0  | \n",
    "\n",
    "\n",
    "\n",
    "All species are anchored to the elements in their IUPAC standard states. When anchoring the DFT energies to the global thermochemical network, it is no longer necessary to perform DFT calculations for gas-phase species. Instead, it is possible to simply use the tabulated enthalpies of formation in the ATcT for the gas-phase species as it is in the same reference frame. In our case, we can take known enthalpies of formation for $C_2H_6, C_2H_4, CO, CO_2$. Some of the reference species are also part of the mechanism of the case study and we can use the experimental values directly. For some adsorbates like $^*H$ or $^*CO$ it is not possible to make an isodesmic reaction and we have to use experimental values of the enthalpies of formation directly. \n",
    "\n",
    "To determine the enthalpies of formation of the target species with respect to the references in the global thermochemical network, we make a hypothetical reaction to create the target from our references that represent the fragments. \n",
    "\n",
    "\\begin{equation}\n",
    "    \\nu_{F}\\, F \\rightarrow P\n",
    "\\end{equation}\n",
    "\n",
    "The enthalpy of reaction is defined as \n",
    "\\begin{equation}\n",
    "\\Delta_r H = \\Delta_f H_P - \\sum_{i}^{N_{reactants}} \\nu_i  \\Delta_f H_i\n",
    "\\end{equation}\n",
    "\n",
    "where we know the $\\Delta_f H_i$ of the reactants. The equation can be rearranged to determine the enthalpy of formation of the target.\n",
    "\n",
    "\\begin{equation}\n",
    "\\Delta_f H_P  = \\Delta_r H + \\sum_{i}^{N_{reactants}} \\nu_i  \\Delta_f H_i\n",
    "\\end{equation}\n",
    "\n",
    "The enthalpy of reaction can also be computed from the known DFT energies of the target and the reference species. \n",
    "\\begin{equation}\n",
    "    \\Delta_f H_P = E_{P} - \\sum_{i}^{N_{reactants}} \\nu_i  E_{i}\n",
    "\\end{equation}\n",
    "\n",
    "Substituting the enthalpy of reaction leads to the equation to determine the enthalpy of formation of the target with respect to the IUPAC refernence species.\n",
    "\n",
    "\\begin{equation}\n",
    "\\Delta_f H_P  = E_{P} - \\sum_{i}^{N_{reactants}} \\nu_i  E_{i} + \\sum_{i}^{N_{reactants}} \\nu_i  \\Delta_f H_i\n",
    "\\end{equation}\n",
    "\n",
    "In matrix notation this reads as\n",
    "\n",
    "\\begin{align}\n",
    "    \\mathbf{\\underline{H}}_{f} & =\\mathbf{\\underline{E}}-\\mathbf{\\underline{\\underline{M}}}\\,\\mathbf{\\underline{E}}^{A} + \\mathbf{\\underline{\\underline{M}}}\\,\\mathbf{\\underline{H}}_{f}^{A}\\\\\n",
    "     \\mathbf{\\underline{H}}_{f} & =\\mathbf{\\underline{E}}-\\mathbf{\\underline{\\underline{M}}}\\,\\left(\\mathbf{\\underline{E}}^{A} - \\mathbf{\\underline{H}}_{f}^{A}\\right)\n",
    "\\end{align}\n",
    "\n",
    "where $\\mathbf{\\underline{\\underline{M}}}$ can be determined from the bond type matrix of the target species $\\mathbf{\\underline{\\underline{F}}}$ and the reference species $\\mathbf{\\underline{\\underline{F}}}^A$\n",
    "\n",
    "\\begin{equation}\n",
    " \\mathbf{\\underline{\\underline{M}}}=\\mathbf{\\underline{\\underline{F}}}\\,\\mathbf{\\underline{\\underline{F}}}^{A^{-1}}\n",
    "\\end{equation}\n"
   ]
  },
  {
   "cell_type": "markdown",
   "id": "f0940321",
   "metadata": {},
   "source": [
    "This is the list of species with their DFT energies from BEEF-vdW for which we want to compute the enthalpies of formation. We can create a vector $\\mathbf{\\underline{E}}$ that contains the energies from this dictionary."
   ]
  },
  {
   "cell_type": "code",
   "execution_count": 3,
   "id": "85a4a747",
   "metadata": {},
   "outputs": [],
   "source": [
    "#Target species for which we need to compute the EOFs\n",
    "#all gas-phase species are removed since we use the ATcT values for the enthalpies of formation\n",
    "#all adsorbates that are used as reference are removed from the list\n",
    "#we use experimental values for XH and XCO\n",
    "species_energies = {\n",
    "    \"XCH2CH3\": -378214.9168,\n",
    "    \"XCH2XCH2\": -378198.4442,\n",
    "    \"CO2X\": -379030.8164,\n",
    "} #values are in eV\n",
    "\n",
    "#vector of DFT energies of the target species from the dictionary\n",
    "E=np.array(list(species_energies.values()))"
   ]
  },
  {
   "cell_type": "markdown",
   "id": "eba47696",
   "metadata": {},
   "source": [
    "We want to determine the enthalpies of formation with reference to $[CH_4, H_2, H_2O, Pt(111)]$. For which we determined the DFT energies. We construct the vector $\\mathbf{\\underline{E}}^{A}$ that contains the DFT energies of the reference species"
   ]
  },
  {
   "cell_type": "code",
   "execution_count": 4,
   "id": "6f62f123",
   "metadata": {},
   "outputs": [],
   "source": [
    "ref_energies = {\n",
    "    \"CH3OHX\": -378517.9494,\n",
    "    \"CH2CH2X\": -378197.7339,\n",
    "    \"H2COX\": -378484.4684,\n",
    "    \"CH3CH3X\": -378231.5655,\n",
    "    \"CH4X\": -377940.4907,\n",
    "    \"H2OX\": -378227.2801,\n",
    "    \"XCH3\": -377923.7364,\n",
    "    \"XCH\": -377890.838,\n",
    "    \"XCH2\": -377906.9113,\n",
    "    \"XOH\": -378209.8045,\n",
    "}#values are in eV\n",
    "\n",
    "#vector of DFT energies of the reference species from the dictionary\n",
    "E_A=np.array(list(ref_energies.values()))"
   ]
  },
  {
   "cell_type": "markdown",
   "id": "b38cc299",
   "metadata": {},
   "source": [
    "For the reference species we have to collect the enthalpies of formation from the ATcT"
   ]
  },
  {
   "cell_type": "code",
   "execution_count": 5,
   "id": "5386890e",
   "metadata": {},
   "outputs": [],
   "source": [
    "ref_EOF = {\n",
    "    \"CH3OHX\": -245.0,\n",
    "    \"C2H4X\": 22.1,\n",
    "    \"H2COX\": -159.3,\n",
    "    \"C2H6X\": -96.0,\n",
    "    \"CH4X\": -81.3,\n",
    "    \"H2OX\": -267.9,\n",
    "    \"XCH3\": -47.2,\n",
    "    \"XCH\": -35.8,\n",
    "    \"XCH2\": 46.5,\n",
    "    \"XOH\": -164.7,\n",
    "}#values are in kJ/mol\n",
    "\n",
    "H_ref=np.array(list(ref_EOF.values()))"
   ]
  },
  {
   "cell_type": "markdown",
   "id": "e01c30a8",
   "metadata": {},
   "source": [
    "We start now with constructing the elemental composition matrix of our target species $\\mathbf{\\underline{\\underline{N}}}$, which is an $m \\times n$ matrix with $m$ target species and $n$ elements. "
   ]
  },
  {
   "cell_type": "code",
   "execution_count": 6,
   "id": "a76e3515",
   "metadata": {},
   "outputs": [
    {
     "data": {
      "text/plain": [
       "array([[0., 0., 0., 1., 5., 0., 1., 0., 0., 0.],\n",
       "       [0., 0., 0., 1., 4., 0., 2., 0., 0., 0.],\n",
       "       [0., 0., 2., 0., 0., 0., 0., 0., 0., 0.]])"
      ]
     },
     "execution_count": 6,
     "metadata": {},
     "output_type": "execute_result"
    }
   ],
   "source": [
    "# Define the species and their elemental compositions in a dictionary\n",
    "species_compositions = {\n",
    "    \"XCH2CH3\": {\"C-O\": 0, \"C=C\": 0, \"C=O\": 0, \"C-C\":1, \"C-H\": 5, \"O-H\": 0, \"Pt-C\":1, \"Pt#C\":0, \"Pt=C\":0, \"Pt-O\":0},\n",
    "    \"XCH2XCH2\": {\"C-O\": 0, \"C=C\": 0, \"C=O\": 0, \"C-C\":1, \"C-H\": 4, \"O-H\": 0, \"Pt-C\":2, \"Pt#C\":0, \"Pt=C\":0, \"Pt-O\":0},\n",
    "    \"CO2X\": {\"C-O\": 0, \"C=C\": 0, \"C=O\": 2, \"C-C\":0, \"C-H\": 0, \"O-H\": 0, \"Pt-C\":0, \"Pt#C\":0, \"Pt=C\":0, \"Pt-O\":0},\n",
    "}\n",
    "\n",
    "species=list(species_compositions.keys())\n",
    "\n",
    "# Create a matrix to hold the elemental compositions of the target species\n",
    "num_species = len(species_compositions)\n",
    "num_bond_types = 10  # C-O, C=C, C=O, C-C, C-H, O-H, Pt-C, Pt#C, Pt=C, Pt-O\n",
    "F = np.zeros((num_species, num_bond_types))\n",
    "\n",
    "# Fill in the elemental composition matrix of the target species\n",
    "for s, composition in species_compositions.items():\n",
    "    i = species.index(s)\n",
    "    F[i, :] = [composition[\"C-O\"], composition[\"C=C\"], composition[\"C=O\"], composition[\"C-C\"],\n",
    "               composition[\"C-H\"],  composition[\"O-H\"], composition[\"Pt-C\"],\n",
    "               composition[\"Pt#C\"], composition[\"Pt=C\"], composition[\"Pt-O\"]]\n",
    "    \n",
    "F"
   ]
  },
  {
   "cell_type": "markdown",
   "id": "da7928b7",
   "metadata": {},
   "source": [
    "We construct the elemental composition matrix of our reference species $\\mathbf{\\underline{\\underline{N}}}^A$, which is an $m \\times n$ matrix with $m$ reference species and $n$ elements. "
   ]
  },
  {
   "cell_type": "code",
   "execution_count": 7,
   "id": "b8c6c158",
   "metadata": {},
   "outputs": [
    {
     "data": {
      "text/plain": [
       "array([[1., 0., 0., 0., 3., 1., 0., 0., 0., 0.],\n",
       "       [0., 1., 0., 0., 4., 0., 0., 0., 0., 0.],\n",
       "       [0., 0., 1., 0., 2., 0., 0., 0., 0., 0.],\n",
       "       [0., 0., 0., 1., 6., 0., 0., 0., 0., 0.],\n",
       "       [0., 0., 0., 0., 4., 0., 0., 0., 0., 0.],\n",
       "       [0., 0., 0., 0., 0., 2., 0., 0., 0., 0.],\n",
       "       [0., 0., 0., 0., 3., 0., 1., 0., 0., 0.],\n",
       "       [0., 0., 0., 0., 1., 0., 0., 1., 0., 0.],\n",
       "       [0., 0., 0., 0., 2., 0., 0., 0., 1., 0.],\n",
       "       [0., 0., 0., 0., 0., 1., 0., 0., 0., 1.]])"
      ]
     },
     "execution_count": 7,
     "metadata": {},
     "output_type": "execute_result"
    }
   ],
   "source": [
    "# Define the species and their elemental compositions in a dictionary\n",
    "references_compositions = {\n",
    "    \"CH3OHX\": {\"C-O\": 1, \"C=C\": 0, \"C=O\": 0, \"C-C\":0, \"C-H\": 3, \"O-H\": 1, \"Pt-C\":0, \"Pt#C\":0, \"Pt=C\":0, \"Pt-O\":0},\n",
    "    \"C2H4X\": {\"C-O\": 0, \"C=C\": 1, \"C=O\": 0, \"C-C\":0, \"C-H\": 4, \"O-H\": 0, \"Pt-C\":0, \"Pt#C\":0, \"Pt=C\":0, \"Pt-O\":0},\n",
    "    \"H2COX\": {\"C-O\": 0, \"C=C\": 0, \"C=O\": 1, \"C-C\":0, \"C-H\": 2, \"O-H\": 0, \"Pt-C\":0, \"Pt#C\":0, \"Pt=C\":0, \"Pt-O\":0},\n",
    "    \"C2H6X\": {\"C-O\": 0, \"C=C\": 0, \"C=O\": 0, \"C-C\":1, \"C-H\": 6, \"O-H\": 0, \"Pt-C\":0, \"Pt#C\":0, \"Pt=C\":0, \"Pt-O\":0},\n",
    "    \"CH4X\": {\"C-O\": 0, \"C=C\": 0, \"C=O\": 0, \"C-C\":0, \"C-H\": 4, \"O-H\": 0, \"Pt-C\":0, \"Pt#C\":0, \"Pt=C\":0, \"Pt-O\":0},\n",
    "    \"H2OX\": {\"C-O\": 0, \"C=C\": 0, \"C=O\": 0, \"C-C\":0, \"C-H\": 0, \"O-H\": 2, \"Pt-C\":0, \"Pt#C\":0, \"Pt=C\":0, \"Pt-O\":0},\n",
    "    \"XCH3\": {\"C-O\": 0, \"C=C\": 0, \"C=O\": 0, \"C-C\":0, \"C-H\": 3, \"O-H\": 0, \"Pt-C\":1, \"Pt#C\":0, \"Pt=C\":0, \"Pt-O\":0},\n",
    "    \"XCH\": {\"C-O\": 0, \"C=C\": 0, \"C=O\": 0, \"C-C\":0, \"C-H\": 1, \"O-H\": 0, \"Pt-C\":0, \"Pt#C\":1, \"Pt=C\":0, \"Pt-O\":0},\n",
    "    \"XCH2\": {\"C-O\": 0, \"C=C\": 0, \"C=O\": 0, \"C-C\":0, \"C-H\": 2, \"O-H\": 0, \"Pt-C\":0, \"Pt#C\":0, \"Pt=C\":1, \"Pt-O\":0},\n",
    "    \"XOH\": {\"C-O\": 0, \"C=C\": 0, \"C=O\": 0, \"C-C\":0, \"C-H\": 0, \"O-H\": 1, \"Pt-C\":0, \"Pt#C\":0, \"Pt=C\":0, \"Pt-O\":1},\n",
    "}\n",
    "\n",
    "references=list(references_compositions.keys())\n",
    "\n",
    "# Create a matrix to hold the elemental compositions of the reference species\n",
    "num_references = len(references_compositions)\n",
    "F_A = np.zeros((num_references, num_bond_types))\n",
    "\n",
    "# Fill in the elemental composition matrix of the reference species\n",
    "for s, composition in references_compositions.items():\n",
    "    i = references.index(s)\n",
    "    F_A[i, :] = [composition[\"C-O\"], composition[\"C=C\"], composition[\"C=O\"], composition[\"C-C\"],\n",
    "               composition[\"C-H\"],  composition[\"O-H\"], composition[\"Pt-C\"],\n",
    "               composition[\"Pt#C\"], composition[\"Pt=C\"], composition[\"Pt-O\"]]\n",
    "    \n",
    "F_A"
   ]
  },
  {
   "cell_type": "markdown",
   "id": "b46e2e1a",
   "metadata": {},
   "source": [
    "We can now determine $\\mathbf{\\underline{\\underline{M}}}$ from the elemental composition matrix of the target species $\\mathbf{\\underline{\\underline{F}}}$ and the reference species $\\mathbf{\\underline{\\underline{F}}}^A$ via\n",
    "\n",
    "\\begin{equation}\n",
    " \\mathbf{\\underline{\\underline{M}}}=\\mathbf{\\underline{\\underline{F}}}\\,\\mathbf{\\underline{\\underline{F}}}^{A^{-1}}\n",
    "\\end{equation}"
   ]
  },
  {
   "cell_type": "code",
   "execution_count": 8,
   "id": "3b26a9b5",
   "metadata": {},
   "outputs": [
    {
     "data": {
      "text/plain": [
       "array([[ 0.,  0.,  0.,  1., -1.,  0.,  1.,  0.,  0.,  0.],\n",
       "       [ 0.,  0.,  0.,  1., -2.,  0.,  2.,  0.,  0.,  0.],\n",
       "       [ 0.,  0.,  2.,  0., -1.,  0.,  0.,  0.,  0.,  0.]])"
      ]
     },
     "execution_count": 8,
     "metadata": {},
     "output_type": "execute_result"
    }
   ],
   "source": [
    "#Calculate the matrix of stoichiometric coefficients to form the target from the reference species\n",
    "M=F.dot(np.linalg.inv(F_A))\n",
    "M"
   ]
  },
  {
   "cell_type": "markdown",
   "id": "607885b1",
   "metadata": {},
   "source": [
    "The last step is to compute the enthalpies of formation using the matrix of stoichiometric coefficients of the formation reactions and the DFT energies of the target species and references\n",
    "\n",
    "\\begin{equation}\n",
    "    \\mathbf{\\underline{H}}_{f} =\\mathbf{\\underline{E}}-\\mathbf{\\underline{\\underline{M}}}\\,\\mathbf{\\underline{E}}^{A} + \\mathbf{\\underline{\\underline{M}}}\\,\\mathbf{\\underline{H}}_{f}^{A}\n",
    "\\end{equation}"
   ]
  },
  {
   "cell_type": "code",
   "execution_count": 9,
   "id": "ecdcfc18",
   "metadata": {},
   "outputs": [
    {
     "data": {
      "text/plain": [
       "{'XCH2CH3': -72.08881599605084,\n",
       " 'XCH2XCH2': -65.16864050477744,\n",
       " 'CO2X': -465.99839549809695}"
      ]
     },
     "execution_count": 9,
     "metadata": {},
     "output_type": "execute_result"
    }
   ],
   "source": [
    "#Determine the enthalpy of formation of the target\n",
    "Hf=(E*eV_to_kJmol-M.dot(E_A)*eV_to_kJmol+M.dot(H_ref))\n",
    "\n",
    "#Create a dictionary with the results\n",
    "enthalpies_of_formation = {species[i]: Hf[i] for i in range(len(species))}\n",
    "enthalpies_of_formation"
   ]
  },
  {
   "cell_type": "markdown",
   "id": "053dc010",
   "metadata": {},
   "source": [
    "The enthalpies of formation of our reference species are the known values in the ATcT. Pt(111) is denoted as a generic X and assumed to have an enthalpy of formation of 0."
   ]
  },
  {
   "cell_type": "code",
   "execution_count": 10,
   "id": "2283e6d1",
   "metadata": {},
   "outputs": [
    {
     "data": {
      "text/plain": [
       "{'XCH2CH3': -72.08881599605084,\n",
       " 'XCH2XCH2': -65.16864050477744,\n",
       " 'CO2X': -465.99839549809695,\n",
       " 'C2H6': -68.38,\n",
       " 'C2H4': 60.89,\n",
       " 'CO': -113.8,\n",
       " 'CO2': -393.11,\n",
       " 'H2O': -238.929,\n",
       " 'CH3OHX': -245.0,\n",
       " 'C2H4X': 22.1,\n",
       " 'H2COX': -159.3,\n",
       " 'C2H6X': -96.0,\n",
       " 'CH4X': -81.3,\n",
       " 'H2OX': -267.9,\n",
       " 'XCH3': -47.2,\n",
       " 'XCH': -35.8,\n",
       " 'XCH2': 46.5,\n",
       " 'XOH': -164.7,\n",
       " 'XCO': -230.9,\n",
       " 'XH': -32.7,\n",
       " 'XO': -103.7}"
      ]
     },
     "execution_count": 10,
     "metadata": {},
     "output_type": "execute_result"
    }
   ],
   "source": [
    "#Append the enthalpies of formation of the reference species to the enthalpies of formation dictionary\n",
    "enthalpies_of_formation.update({'C2H6': -68.38, 'C2H4': 60.89, 'CO':-113.800, 'CO2':-393.110, 'H2O': -238.929})\n",
    "enthalpies_of_formation.update(ref_EOF)\n",
    "enthalpies_of_formation.update({'XCO': -230.9, 'XH':-32.7, 'XO':-103.7})\n",
    "enthalpies_of_formation"
   ]
  },
  {
   "cell_type": "code",
   "execution_count": 11,
   "id": "0788cdff",
   "metadata": {},
   "outputs": [
    {
     "data": {
      "image/png": "[encoded data removed]",
      "text/plain": [
       "<Figure size 1400x800 with 1 Axes>"
      ]
     },
     "metadata": {},
     "output_type": "display_data"
    }
   ],
   "source": [
    "plt.rcParams['figure.figsize'] = (14, 8)\n",
    "plt.rcParams['axes.linewidth'] = 3\n",
    "plt.rc('ytick', labelsize=20)\n",
    "plt.rc('axes', labelsize=20)\n",
    "plt.rc('legend', fontsize=20)\n",
    "plt.rcParams['lines.markersize'] = 10\n",
    "plt.rcParams['lines.linewidth'] = 4\n",
    "plt.rcParams['ytick.direction'] = 'in'\n",
    "plt.rcParams['ytick.major.size'] = 10\n",
    "plt.rcParams['ytick.major.width'] = 2\n",
    "plt.rcParams['legend.edgecolor'] = 'k'\n",
    "plt.rcParams['axes.unicode_minus'] = False\n",
    "plt.rcParams[\"legend.framealpha\"] = 1\n",
    "plt.rcParams['ytick.major.pad'] = 8\n",
    "\n",
    "\n",
    "gs = gridspec.GridSpec(nrows=1, ncols=1)\n",
    "gs.update(wspace=0.5, hspace=0.5)\n",
    "ax0 = plt.subplot(gs[0, 0])\n",
    "\n",
    "ax0.set_ylim([-200,200])\n",
    "ax0.set_xlim([-1,44])\n",
    "ax0.get_xaxis().set_visible(False)\n",
    "ax0.spines['right'].set_visible(False)\n",
    "ax0.spines['top'].set_visible(False)\n",
    "ax0.spines['bottom'].set_visible(False)\n",
    "ax0.set_ylabel('$\\mathrm{enthalpy\\ (kJ\\,mol^{-1})}$')\n",
    "\n",
    "\n",
    "mechanism=({'C2H6':1,'CO2':1},\n",
    "    {'C2H6X':1,'CO2':1},\n",
    "    {'C2H6X':1,'CO2X':1},\n",
    "    {'XCH2CH3':1,'CO2X':1,'XH':1},\n",
    "    {'XCH2XCH2':1,'CO2X':1,'XH':2},\n",
    "    {'XCH2XCH2':1,'XCO':1,'XO':1,'XH':2},\n",
    "    {'XCH2XCH2':1,'XCO':1,'XOH':1,'XH':1},\n",
    "    {'XCH2XCH2':1,'XCO':1,'H2OX':1},\n",
    "    {'C2H4':1,'XCO':1,'H2OX':1},\n",
    "    {'C2H4':1,'CO':1,'H2OX':1}, \n",
    "    {'C2H4':1,'CO':1,'H2O':1},\n",
    "    )\n",
    "\n",
    "tags=('$\\mathbf{CH_3CH_3}$\\n$\\mathbf{CO_2}$',\n",
    "      '$\\mathbf{CH_3CH_3^*}$\\n$\\mathbf{CO_2}$',\n",
    "      '$\\mathbf{CH_3CH_3^*}$\\n$\\mathbf{CO_2^*}$',\n",
    "      '$\\mathbf{^*CH_2CH_3}$\\n$\\mathbf{CO_2^*}$\\n$\\mathbf{^*H}$',\n",
    "      '$\\mathbf{^*CH_2^*CH_2}$\\n$\\mathbf{CO_2^*}$\\n$\\mathbf{2 ^*H}$',\n",
    "      '$\\mathbf{^*CH_2^*CH_2}$\\n$\\mathbf{^*CO}$\\n$\\mathbf{^*O}$\\n$\\mathbf{2 ^*H}$',\n",
    "      '$\\mathbf{^*CH_2^*CH_2}$\\n$\\mathbf{^*CO}$\\n$\\mathbf{^*OH}$\\n$\\mathbf{^*H}$',\n",
    "      '$\\mathbf{^*CH_2^*CH_2}$\\n$\\mathbf{^*CO}$\\n$\\mathbf{H_2O^*}$',\n",
    "      '$\\mathbf{CH_2CH_2}$\\n$\\mathbf{^*CO}$\\n$\\mathbf{H_2O^*}$',\n",
    "      '$\\mathbf{CH_2CH_2}$\\n$\\mathbf{CO}$\\n$\\mathbf{H_2O^*}$',\n",
    "      '$\\mathbf{CH_2CH_2}$\\n$\\mathbf{CO}$\\n$\\mathbf{H_2O}$',\n",
    ")\n",
    "\n",
    "# Function to compute the sum for each step in the mechanism\n",
    "def compute_sum(vec,dictionary):\n",
    "    return sum(vec[key] * value for key, value in dictionary.items())\n",
    "\n",
    "def ediagram(ref_system):\n",
    "    system = [compute_sum(ref_system,entry) for entry in mechanism]\n",
    "    rel_EOFs=np.zeros(len(system))\n",
    "    for i, Hf_i in enumerate(system):\n",
    "        start = i * 4\n",
    "        end = start + 3\n",
    "        ax0.plot((start, end), (Hf_i-system[0], Hf_i-system[0]), linestyle='solid', color='b')\n",
    "        if i>0:\n",
    "            ax0.plot((start-1,start),(system[i-1]-system[0],Hf_i-system[0]),linestyle='dashed',color='b', linewidth=1)\n",
    "        rel_EOFs[i]=Hf_i-system[0]\n",
    "    return rel_EOFs\n",
    "\n",
    "values=ediagram(enthalpies_of_formation)\n",
    "\n",
    "for i in range(len(np.array(values).T)):\n",
    "    start = i * 4\n",
    "    ax0.text(start+1.5,np.array(values).T[i]-5,tags[i],va='top',ha='center',size=12)"
   ]
  },
  {
   "cell_type": "code",
   "execution_count": null,
   "id": "5ba1f45d",
   "metadata": {},
   "outputs": [],
   "source": []
  }
 ],
 "metadata": {
  "kernelspec": {
   "display_name": "Python 3 (ipykernel)",
   "language": "python",
   "name": "python3"
  },
  "language_info": {
   "codemirror_mode": {
    "name": "ipython",
    "version": 3
   },
   "file_extension": ".py",
   "mimetype": "text/x-python",
   "name": "python",
   "nbconvert_exporter": "python",
   "pygments_lexer": "ipython3",
   "version": "3.7.12"
  }
 },
 "nbformat": 4,
 "nbformat_minor": 5
}
