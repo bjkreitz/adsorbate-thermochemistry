{
 "cells": [
  {
   "cell_type": "markdown",
   "id": "f2d42365",
   "metadata": {},
   "source": [
    "Supplementary notebook to the manuscript \"Unifying thermochemistry concepts in computational heterogeneous catalysis\", by Dr. Bjarne Kreitz (Brown University), Dr. Gabriel Gusmao (Georgia Tech), Dr. David H. Bross (Argonne National Laboratory), Dingqi Nai (Georgia Tech), Jagriti Sahoo (Georgia Tech), Dr. C. Franklin Goldsmith (Brown University), Dr. Andrew J. Medford (Georgia Tech). \n",
    "\n",
    "Correspondence to Bjarne Kreitz (bjarne_kreitz@brown.edu) and Andrew J. Medford (ajm@gatech.edu)"
   ]
  },
  {
   "cell_type": "code",
   "execution_count": 140,
   "id": "2cbe945b",
   "metadata": {},
   "outputs": [],
   "source": [
    "import numpy as np\n",
    "import matplotlib.pyplot as plt\n",
    "import matplotlib.gridspec as gridspec\n",
    "from sklearn.linear_model import LinearRegression\n",
    "from scipy import linalg\n",
    "\n",
    "eV_to_kJmol=96.485"
   ]
  },
  {
   "cell_type": "markdown",
   "id": "a6840156",
   "metadata": {},
   "source": [
    "# Referencing DFT energies to least-squares elemental chemical potentials"
   ]
  },
  {
   "cell_type": "markdown",
   "id": "914d86e4",
   "metadata": {},
   "source": [
    "For a typical DFT dataset, there is a myriad of possible anchor species to calculate the chemical potentials. As shown in the manuscript, different anchor species lead to different elemental chemical potentials and, thus, to different enthalpies of formation of the adsorbates. Instead of manually selecting the anchor species to determine the chemical potentials of the elements in a sequential approach, it is possible to exploit the invariance and select convenient numerical values for the chemical potentials. In particular, it is often convenient to select chemical potentials that minimize the (sum of squared) errors between enthalpies of formation computed using different codes, levels of fidelity, or reference sets. This can be achieved using linear algebra and least-squares regression and avoids the need to specify any explicit chemical species as anchors.\n",
    "\n",
    "To calculate the least-squares anchor elemental potentials, we take the elemental composition matrix $\\mathbf{\\underline{\\underline{N}}}$ that contains all the formation reactions of the target species from the constituent elements to derive the chemical potentials.\n",
    "Rather than selecting a set of explicit anchor species with defined stoichiometries, we seek the set of chemical potentials that minimizes the squared magnitude of the resulting enthalpies of formation.\n",
    "The linear algebra formulation offers a convenient way to perform the minimization of squared enthalpy of formation magnitudes, which is closely related to the least-squares regression problem and is given via\n",
    "\n",
    "\\begin{equation}\n",
    "\\mathbf{\\underline{\\mu}}^{LS}=\\left(\\mathbf{\\underline{\\underline{N}}}^{\\intercal}\\mathbf{\\underline{\\underline{N}}}\\right)^{-1}\\mathbf{\\underline{\\underline{N}}}^{\\intercal}\\mathbf{\\underline{E}}=\\mathbf{\\underline{\\underline{N}}}^{+}\\, \\mathbf{\\underline{E}} \\label{eq:regression}\n",
    "\\end{equation}\n",
    "\n",
    "The least-squares regression result can also be written as the product of the pseudo-inverse of the elemental composition matrix $\\mathbf{\\underline{\\underline{N}}}^{+}$  and the energy vector $\\mathbf{\\underline{E}}$.\n",
    "Calculation of the enthalpies of formation is then performed by replacing the chemical potentials in the equation above, leading to\n",
    "\\begin{equation}\n",
    "    \\mathbf{\\underline{H}}^{LS}_{f}=\\mathbf{\\underline{E}}-\\mathbf{\\underline{\\underline{N}}}\\, \\mathbf{\\underline{\\mu}}^{LS}=\\mathbf{\\underline{E}}-\\mathbf{\\underline{\\underline{N}}}\\, \\mathbf{\\underline{\\underline{N}}}^{+}\\, \\mathbf{\\underline{E}}\n",
    "\\end{equation}\n",
    "where we use the LS symbol to denote a least-squares anchor set that does not explicitly depend on specific molecular anchor species, but rather implicitly depends on the entire set of target species included (\\textit{i.e.} the species in the rows of $\\mathbf{\\underline{\\underline{N}}}$).\n",
    "\n",
    "We first define the vector of DFT reaction energies $\\mathbf{\\underline{E}}$"
   ]
  },
  {
   "cell_type": "code",
   "execution_count": 144,
   "id": "bbf9626f",
   "metadata": {},
   "outputs": [],
   "source": [
    "#Target species for which we need to compute the EOFs\n",
    "species_energies = {\n",
    "    \"X\": -377616.072,\n",
    "    \"C2H6\": -615.3019939,\n",
    "    \"H2O\": -611.0186083,\n",
    "    \"CO2\": -1414.682864,\n",
    "    \"C2H6X\" : -378231.5655,\n",
    "    \"XCH2CH3\": -378214.9168,\n",
    "    \"XO\": -378193.2832,\n",
    "    \"XCH2XCH2\": -378198.4442,  \n",
    "    \"XCO\": -378453.0261, \n",
    "    \"CO2X\": -379030.8164,\n",
    "    \"XOH\": -378209.8045,\n",
    "    \"H2OX\": -378227.2801,    \n",
    "    \"XH\": -377632.6636,\n",
    "    \"CO\": -835.5389907,\n",
    "    \"C2H4\":-581.44565067567,   \n",
    "}\n",
    "\n",
    "#vector of DFT energies of the target species from the dictionary\n",
    "E=np.array(list(species_energies.values()))*eV_to_kJmol"
   ]
  },
  {
   "cell_type": "markdown",
   "id": "5ce7c72d",
   "metadata": {},
   "source": [
    "We then construct the elemental composition matrix $\\mathbf{\\underline{\\underline{N}}}$"
   ]
  },
  {
   "cell_type": "code",
   "execution_count": 143,
   "id": "81e80ca1",
   "metadata": {},
   "outputs": [
    {
     "data": {
      "text/plain": [
       "array([[0., 0., 0., 1.],\n",
       "       [2., 6., 0., 0.],\n",
       "       [0., 2., 1., 0.],\n",
       "       [1., 0., 2., 0.],\n",
       "       [2., 6., 0., 1.],\n",
       "       [2., 5., 0., 1.],\n",
       "       [0., 0., 1., 1.],\n",
       "       [2., 4., 0., 1.],\n",
       "       [1., 0., 1., 1.],\n",
       "       [1., 0., 2., 1.],\n",
       "       [0., 1., 1., 1.],\n",
       "       [0., 2., 1., 1.],\n",
       "       [0., 1., 0., 1.],\n",
       "       [1., 0., 1., 0.],\n",
       "       [2., 4., 0., 0.]])"
      ]
     },
     "execution_count": 143,
     "metadata": {},
     "output_type": "execute_result"
    }
   ],
   "source": [
    "# Define the species and their elemental compositions in a dictionary\n",
    "species_compositions = {\n",
    "    \"X\": {\"C\": 0, \"H\": 0, \"O\": 0, \"X\": 1}, \n",
    "    \"C2H6\": {\"C\": 2, \"H\": 6, \"O\": 0, \"X\": 0},\n",
    "    \"H2O\": {\"C\": 0, \"H\": 2, \"O\": 1, \"X\": 0},    \n",
    "    \"CO2\": {\"C\": 1, \"H\": 0, \"O\": 2, \"X\": 0},\n",
    "    \"C2H6X\": {\"C\": 2, \"H\": 6, \"O\": 0, \"X\": 1},\n",
    "    \"XCH2CH3\": {\"C\": 2, \"H\": 5, \"O\": 0, \"X\": 1},    \n",
    "    \"XO\": {\"C\": 0, \"H\": 0, \"O\": 1, \"X\": 1},\n",
    "    \"XCH2XCH2\": {\"C\": 2, \"H\": 4, \"O\": 0, \"X\": 1},    \n",
    "    \"XCO\": {\"C\": 1, \"H\": 0, \"O\": 1, \"X\": 1},\n",
    "    \"CO2X\": {\"C\": 1, \"H\": 0, \"O\": 2, \"X\": 1},\n",
    "    \"XOH\": {\"C\": 0, \"H\": 1, \"O\": 1, \"X\": 1},\n",
    "    \"H2OX\": {\"C\": 0, \"H\": 2, \"O\": 1, \"X\": 1},   \n",
    "    \"XH\": {\"C\": 0, \"H\": 1, \"O\": 0, \"X\": 1},\n",
    "    \"CO\": {\"C\": 1, \"H\": 0, \"O\": 1, \"X\": 0},\n",
    "    \"C2H4\": {\"C\": 2, \"H\": 4, \"O\": 0, \"X\": 0},\n",
    "}\n",
    "\n",
    "species=list(species_compositions.keys())\n",
    "\n",
    "# Create a matrix to hold the elemental compositions of the target species\n",
    "num_species = len(species_compositions)\n",
    "num_elements = 4  # C, H, O, X\n",
    "N = np.zeros((num_species, num_elements))\n",
    "\n",
    "# Fill in the elemental composition matrix of the target species\n",
    "for s, composition in species_compositions.items():\n",
    "    i = species.index(s)\n",
    "    N[i, :] = [composition[\"C\"], composition[\"H\"], composition[\"O\"], composition[\"X\"]]\n",
    "    \n",
    "N"
   ]
  },
  {
   "cell_type": "markdown",
   "id": "c0fd5d15",
   "metadata": {},
   "source": [
    "The chemical potential that minimizes the sum of squared differences of the resulting enthalpies of formation is computed using the pseudo-inverse\n",
    "\n",
    "\\begin{equation}\n",
    "\\mathbf{\\underline{\\mu}}^{LS}=\\mathbf{\\underline{\\underline{N}}}^{+}\\, \\mathbf{\\underline{E}} \n",
    "\\end{equation}"
   ]
  },
  {
   "cell_type": "code",
   "execution_count": 89,
   "id": "36e19ea7",
   "metadata": {},
   "outputs": [
    {
     "data": {
      "text/plain": [
       "{'C': -24919.929953558047,\n",
       " 'H': -1585.3403049171686,\n",
       " 'O': -55770.66194749069,\n",
       " 'X': -36434292.46914072}"
      ]
     },
     "execution_count": 89,
     "metadata": {},
     "output_type": "execute_result"
    }
   ],
   "source": [
    "#The chemical potentials are calculated with the pseudo-inverse of the elemental composition matrix. \n",
    "mu_LS = (linalg.pinv(N)).dot(E)\n",
    "\n",
    "elements=['C','H','O','X']\n",
    "\n",
    "#Create a dictionary with the results\n",
    "chemical_potentials = {elements[i]: mu_LS[i] for i in range(len(elements))}\n",
    "\n",
    "chemical_potentials"
   ]
  },
  {
   "cell_type": "markdown",
   "id": "94adc4f8",
   "metadata": {},
   "source": [
    "It is then straightforward to calculate the enthalpies of formation of the species using the least-squares chemical potentials \n",
    "\n",
    "\\begin{equation}\n",
    "    \\mathbf{\\underline{H}}^{LS}_{f}=\\mathbf{\\underline{E}}-\\mathbf{\\underline{\\underline{N}}}\\, \\mathbf{\\underline{\\mu}}^{LS}\n",
    "\\end{equation}"
   ]
  },
  {
   "cell_type": "code",
   "execution_count": 56,
   "id": "829b9113",
   "metadata": {},
   "outputs": [
    {
     "data": {
      "text/plain": [
       "{'X': 5.762220725417137,\n",
       " 'C2H6': -15.511144822390634,\n",
       " 'H2O': -12.787864500467549,\n",
       " 'CO2': -34.4222845005861,\n",
       " 'C2H6X': -28.226390160620213,\n",
       " 'XCH2CH3': -7.216875575482845,\n",
       " 'XO': 84.20153620839119,\n",
       " 'XCH2XCH2': -3.1983694955706596,\n",
       " 'XCO': -57.16221673041582,\n",
       " 'CO2X': -34.597364738583565,\n",
       " 'XOH': 75.48421062529087,\n",
       " 'H2OX': -25.308750450611115,\n",
       " 'XH': -9.738000363111496,\n",
       " 'CO': 73.61238335924281,\n",
       " 'C2H4': 80.43752134274837}"
      ]
     },
     "execution_count": 56,
     "metadata": {},
     "output_type": "execute_result"
    }
   ],
   "source": [
    "#Calculate the enthalpies of formation with the chemical potentials\n",
    "\n",
    "Hf=E-N.dot(np.array(list(chemical_potentials.values())))\n",
    "\n",
    "#Create a dictionary with the results\n",
    "enthalpies_of_formation = {species[i]: Hf[i] for i in range(len(species))}\n",
    "enthalpies_of_formation"
   ]
  },
  {
   "cell_type": "code",
   "execution_count": 62,
   "id": "a1bd22e3",
   "metadata": {},
   "outputs": [
    {
     "data": {
      "image/png": "[encoded data removed]",
      "text/plain": [
       "<Figure size 1400x800 with 1 Axes>"
      ]
     },
     "metadata": {},
     "output_type": "display_data"
    }
   ],
   "source": [
    "plt.rcParams['figure.figsize'] = (14, 8)\n",
    "plt.rcParams['axes.linewidth'] = 3\n",
    "plt.rc('ytick', labelsize=20)\n",
    "plt.rc('axes', labelsize=20)\n",
    "plt.rc('legend', fontsize=20)\n",
    "plt.rcParams['lines.markersize'] = 10\n",
    "plt.rcParams['lines.linewidth'] = 4\n",
    "plt.rcParams['ytick.direction'] = 'in'\n",
    "plt.rcParams['ytick.major.size'] = 10\n",
    "plt.rcParams['ytick.major.width'] = 2\n",
    "plt.rcParams['legend.edgecolor'] = 'k'\n",
    "plt.rcParams['axes.unicode_minus'] = False\n",
    "plt.rcParams[\"legend.framealpha\"] = 1\n",
    "plt.rcParams['ytick.major.pad'] = 8\n",
    "\n",
    "gs = gridspec.GridSpec(nrows=1, ncols=1)\n",
    "gs.update(wspace=0.5, hspace=0.5)\n",
    "ax0 = plt.subplot(gs[0, 0])\n",
    "\n",
    "ax0.set_ylim([-200,200])\n",
    "ax0.set_xlim([-1,44])\n",
    "ax0.get_xaxis().set_visible(False)\n",
    "ax0.spines['right'].set_visible(False)\n",
    "ax0.spines['top'].set_visible(False)\n",
    "ax0.spines['bottom'].set_visible(False)\n",
    "ax0.set_ylabel('$\\mathrm{enthalpy\\ (kJ\\,mol^{-1})}$')\n",
    "\n",
    "\n",
    "mechanism=({'C2H6':1,'CO2':1},\n",
    "    {'C2H6X':1,'CO2':1},\n",
    "    {'C2H6X':1,'CO2X':1},\n",
    "    {'XCH2CH3':1,'CO2X':1,'XH':1},\n",
    "    {'XCH2XCH2':1,'CO2X':1,'XH':2},\n",
    "    {'XCH2XCH2':1,'XCO':1,'XO':1,'XH':2},\n",
    "    {'XCH2XCH2':1,'XCO':1,'XOH':1,'XH':1},\n",
    "    {'XCH2XCH2':1,'XCO':1,'H2OX':1},\n",
    "    {'C2H4':1,'XCO':1,'H2OX':1},\n",
    "    {'C2H4':1,'CO':1,'H2OX':1}, \n",
    "    {'C2H4':1,'CO':1,'H2O':1},\n",
    "    )\n",
    "\n",
    "tags=('$\\mathbf{CH_3CH_3}$\\n$\\mathbf{CO_2}$',\n",
    "      '$\\mathbf{CH_3CH_3^*}$\\n$\\mathbf{CO_2}$',\n",
    "      '$\\mathbf{CH_3CH_3^*}$\\n$\\mathbf{CO_2^*}$',\n",
    "      '$\\mathbf{^*CH_2CH_3}$\\n$\\mathbf{CO_2^*}$\\n$\\mathbf{^*H}$',\n",
    "      '$\\mathbf{^*CH_2^*CH_2}$\\n$\\mathbf{CO_2^*}$\\n$\\mathbf{2 ^*H}$',\n",
    "      '$\\mathbf{^*CH_2^*CH_2}$\\n$\\mathbf{^*CO}$\\n$\\mathbf{^*O}$\\n$\\mathbf{2 ^*H}$',\n",
    "      '$\\mathbf{^*CH_2^*CH_2}$\\n$\\mathbf{^*CO}$\\n$\\mathbf{^*OH}$\\n$\\mathbf{^*H}$',\n",
    "      '$\\mathbf{^*CH_2^*CH_2}$\\n$\\mathbf{^*CO}$\\n$\\mathbf{H_2O^*}$',\n",
    "      '$\\mathbf{CH_2CH_2}$\\n$\\mathbf{^*CO}$\\n$\\mathbf{H_2O^*}$',\n",
    "      '$\\mathbf{CH_2CH_2}$\\n$\\mathbf{CO}$\\n$\\mathbf{H_2O^*}$',\n",
    "      '$\\mathbf{CH_2CH_2}$\\n$\\mathbf{CO}$\\n$\\mathbf{H_2O}$',\n",
    ")\n",
    "\n",
    "# Function to compute the sum for each step in the mechanism\n",
    "def compute_sum(vec,dictionary):\n",
    "    return sum(vec[key] * value for key, value in dictionary.items())\n",
    "\n",
    "def ediagram(ref_system):\n",
    "    system = [compute_sum(ref_system,entry) for entry in mechanism]\n",
    "    rel_EOFs=np.zeros(len(system))\n",
    "    for i, Hf_i in enumerate(system):\n",
    "        start = i * 4\n",
    "        end = start + 3\n",
    "        ax0.plot((start, end), (Hf_i-system[0], Hf_i-system[0]), linestyle='solid', color='b')\n",
    "        if i>0:\n",
    "            ax0.plot((start-1,start),(system[i-1]-system[0],Hf_i-system[0]),linestyle='dashed',color='b', linewidth=1)\n",
    "        rel_EOFs[i]=Hf_i-system[0]\n",
    "    return rel_EOFs\n",
    "\n",
    "values=ediagram(enthalpies_of_formation)\n",
    "\n",
    "for i in range(len(np.array(values).T)):\n",
    "    start = i * 4\n",
    "    ax0.text(start+1.5,np.array(values).T[i]-5,tags[i],va='top',ha='center',size=12)"
   ]
  },
  {
   "cell_type": "code",
   "execution_count": 59,
   "id": "eac5df8b",
   "metadata": {},
   "outputs": [
    {
     "data": {
      "text/plain": [
       "{'X': 5.762220725417137,\n",
       " 'C2H6': -15.51114482034609,\n",
       " 'H2O': -12.787864482830628,\n",
       " 'CO2': -34.42228447421803,\n",
       " 'C2H6X': -28.226390153169632,\n",
       " 'XCH2CH3': -7.216875568032265,\n",
       " 'XO': 84.20153622329235,\n",
       " 'XCH2XCH2': -3.198369488120079,\n",
       " 'XCO': -57.16221671551466,\n",
       " 'CO2X': -34.59736470878124,\n",
       " 'XOH': 75.48421064019203,\n",
       " 'H2OX': -25.308750435709953,\n",
       " 'XH': -9.738000363111496,\n",
       " 'CO': 73.61238337081159,\n",
       " 'C2H4': 80.43752134195529}"
      ]
     },
     "execution_count": 59,
     "metadata": {},
     "output_type": "execute_result"
    }
   ],
   "source": [
    "#Alternatively, this can be formulated with a linear regression\n",
    "\n",
    "def calculate_formation_energy(energy_dict, atoms_count_array):\n",
    "    formation_en_dict = {}\n",
    "    energy_array = np.array(list(energy_dict.values()))*eV_to_kJmol\n",
    "    molecules = list(energy_dict.keys())\n",
    "    reg = LinearRegression(fit_intercept = False)\n",
    "    reg.fit(atoms_count_array, energy_array)\n",
    "    predicted_energy = reg.predict(atoms_count_array)\n",
    "    formation_energy = energy_array - predicted_energy\n",
    "\n",
    "    for i, molecule in enumerate(molecules):\n",
    "        formation_en_dict[molecule] = formation_energy[i]\n",
    "        \n",
    "    return formation_en_dict\n",
    "\n",
    "formation_en = calculate_formation_energy(species_energies, N)\n",
    "formation_en"
   ]
  },
  {
   "cell_type": "markdown",
   "id": "861effc3",
   "metadata": {},
   "source": [
    "In a more generic way, this can be formulated as determining corrections to a set of energies to align them with known energies of higher fidelity. \n",
    "In the case of two DFT datasets obtained from two different functionals, we can either compare the EOFs or determine atomic correction factors to align the energies of, e.g., the RPBE functional to align with the BEEF energy values. \n",
    "In fact, it can be shown that the least-squares anchor is also the anchor set that minimizes the sum of squared deviation between two different datasets obtained from different sources.\n",
    "Thus, the minimum sum of squares chemical potentials can also be used directly to align data from different sources, e.g., from different functionals such as BEEF-vdW and RPBE or different levels of theory. \n",
    "\n",
    "\\begin{equation}\n",
    "    \\mathbf{\\underline{\\hat{E}}}^{RPBE}=\\mathbf{\\underline{E}}^{RPBE}+\\mathbf{\\underline{\\underline{N}}}\\, \\mathbf{\\underline{\\underline{N}}}^{+}\\, \\left(\\mathbf{\\underline{E}}^{BEEF-vdW}-\\mathbf{\\underline{E}}^{RPBE}\\right)\n",
    "\\end{equation}\n",
    "\n",
    "where $\\mathbf{\\underline{\\hat{E}}}^{RPBE}$ are the aligned energies of the RPBE functional to the BEEF-vdW functional.\n",
    "The equation allows to align the data from various sources to the same QM zero-of-energy, which is useful in data science and machine learning for providing an unbiased error between different levels of theory."
   ]
  },
  {
   "cell_type": "code",
   "execution_count": 93,
   "id": "ea53d874",
   "metadata": {},
   "outputs": [],
   "source": [
    "#The method can also be used to align different DFT data sets\n",
    "\n",
    "species_energies_RPBE = { \n",
    "    \"X\": -366518.205,\n",
    "    \"C2H6\": -600.361,\n",
    "    \"H2O\": -600.7389158,\n",
    "    \"CO2\": -1389.568,\n",
    "    \"C2H6X\" : -367118.506,\n",
    "    \"XCH2CH3\": -367102.198,\n",
    "    \"XO\": -367085.354,\n",
    "    \"XCH2XCH2\": -367086.181,  \n",
    "    \"XCO\": -367339.346, \n",
    "    \"CO2X\": -367907.753,\n",
    "    \"XOH\": -367101.878,\n",
    "    \"H2OX\": -367118.949,    \n",
    "    \"XH\": -366534.422,\n",
    "    \"CO\": -819.812,\n",
    "    \"C2H4\": -567.332,   \n",
    "}\n",
    "\n",
    "#vector of DFT energies of the target species from the dictionary\n",
    "E_RPBE=np.array(list(species_energies_RPBE.values()))*eV_to_kJmol"
   ]
  },
  {
   "cell_type": "code",
   "execution_count": 96,
   "id": "71edb4fa",
   "metadata": {},
   "outputs": [
    {
     "data": {
      "text/plain": [
       "{'X': -36434303.43239735,\n",
       " 'C2H6': -59373.45291362446,\n",
       " 'H2O': -58957.91270217598,\n",
       " 'CO2': -136499.4476414965,\n",
       " 'C2H6X': -36493671.09621097,\n",
       " 'XCH2CH3': -36492056.46617737,\n",
       " 'XO': -36489938.116766356,\n",
       " 'XCH2XCH2': -36490469.913278766,\n",
       " 'XCO': -36515044.887839854,\n",
       " 'CO2X': -36570800.950338855,\n",
       " 'XOH': -36491573.58755996,\n",
       " 'H2OX': -36493261.83564857,\n",
       " 'XH': -36435909.28229596,\n",
       " 'CO': -80613.22687749541,\n",
       " 'C2H4': -56104.34454141254}"
      ]
     },
     "execution_count": 96,
     "metadata": {},
     "output_type": "execute_result"
    }
   ],
   "source": [
    "#Calculate the DFT energies of RPBE aligned to the BEEF-vdW data with the chemical potentials\n",
    "\n",
    "E_RPBE_aligned=E_RPBE+N.dot((linalg.pinv(N)).dot(E-E_RPBE))\n",
    "\n",
    "#Create a dictionary with the results\n",
    "DFT_RPBE_aligned = {species[i]: E_RPBE_aligned[i] for i in range(len(species))}\n",
    "DFT_RPBE_aligned"
   ]
  },
  {
   "cell_type": "code",
   "execution_count": 139,
   "id": "28a1be26",
   "metadata": {},
   "outputs": [
    {
     "data": {
      "text/plain": [
       "{'X': -1070777.6974949986,\n",
       " 'C2H6': -1441.5817964414964,\n",
       " 'H2O': -991.8361308624953,\n",
       " 'CO2': -2423.207653040008,\n",
       " 'C2H6X': -1072243.545857504,\n",
       " 'XCH2CH3': -1072210.6734180003,\n",
       " 'XO': -1071748.5488620028,\n",
       " 'XCH2XCH2': -1072166.7148519978,\n",
       " 'XCO': -1072303.4244484976,\n",
       " 'CO2X': -1073208.7721489966,\n",
       " 'XOH': -1071748.2883525044,\n",
       " 'H2OX': -1071787.326183498,\n",
       " 'XH': -1070813.840776004,\n",
       " 'CO': -1517.4186976894998,\n",
       " 'C2H4': -1361.7555854420207}"
      ]
     },
     "execution_count": 139,
     "metadata": {},
     "output_type": "execute_result"
    }
   ],
   "source": [
    "#Calculate the difference between the DFT energies of BEEF-vdW and RPBE in kJ/mol\n",
    "\n",
    "Delta_DFT_unaligned = {species[i]: E[i]-E_RPBE[i] for i in range(len(species))}\n",
    "Delta_DFT_unaligned"
   ]
  },
  {
   "cell_type": "code",
   "execution_count": 138,
   "id": "1216cfe0",
   "metadata": {},
   "outputs": [
    {
     "data": {
      "text/plain": [
       "{'X': 16.72547735273838,\n",
       " 'C2H6': 6.0400321829656605,\n",
       " 'H2O': 3.782280350482324,\n",
       " 'CO2': 3.7715084564697463,\n",
       " 'C2H6X': -1.5010565295815468,\n",
       " 'XCH2CH3': -9.781270630657673,\n",
       " 'XO': -40.812785647809505,\n",
       " 'XCH2XCH2': -6.975358232855797,\n",
       " 'XCO': 4.664581350982189,\n",
       " 'CO2X': 12.629984855651855,\n",
       " 'XOH': 0.6003774553537369,\n",
       " 'H2OX': 2.7152000665664673,\n",
       " 'XH': 21.734849952161312,\n",
       " 'CO': -3.752640194084961,\n",
       " 'C2H4': 3.5609359705194947}"
      ]
     },
     "execution_count": 138,
     "metadata": {},
     "output_type": "execute_result"
    }
   ],
   "source": [
    "#Calculate the difference between the DFT energies of BEEF-vdW and RPBE in kJ/mol\n",
    "\n",
    "Delta_DFT_aligned = {species[i]: E[i]-E_RPBE_aligned[i] for i in range(len(species))}\n",
    "Delta_DFT_aligned"
   ]
  },
  {
   "cell_type": "code",
   "execution_count": null,
   "id": "24febcb8",
   "metadata": {},
   "outputs": [],
   "source": []
  }
 ],
 "metadata": {
  "kernelspec": {
   "display_name": "Python 3 (ipykernel)",
   "language": "python",
   "name": "python3"
  },
  "language_info": {
   "codemirror_mode": {
    "name": "ipython",
    "version": 3
   },
   "file_extension": ".py",
   "mimetype": "text/x-python",
   "name": "python",
   "nbconvert_exporter": "python",
   "pygments_lexer": "ipython3",
   "version": "3.7.12"
  }
 },
 "nbformat": 4,
 "nbformat_minor": 5
}
