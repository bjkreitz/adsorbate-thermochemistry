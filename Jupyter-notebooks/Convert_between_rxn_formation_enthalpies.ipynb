{
 "cells": [
  {
   "cell_type": "markdown",
   "id": "c5408165",
   "metadata": {},
   "source": [
    "Supplementary notebook to the manuscript \"Unifying thermochemistry concepts in computational heterogeneous catalysis\", by Dr. Bjarne Kreitz (Brown University), Dr. Gabriel Gusmao (Georgia Tech), Dr. David H. Bross (Argonne National Laboratory), Dingqi Nai (Georgia Tech), Jagriti Sahoo (Georgia Tech), Dr. C. Franklin Goldsmith (Brown University), Dr. Andrew J. Medford (Georgia Tech). \n",
    "\n",
    "Correspondence to Bjarne Kreitz (bjarne_kreitz@brown.edu) and Andrew J. Medford (ajm@gatech.edu)"
   ]
  },
  {
   "cell_type": "code",
   "execution_count": 36,
   "id": "812357af",
   "metadata": {},
   "outputs": [],
   "source": [
    "import numpy as np\n",
    "import matplotlib.pyplot as plt\n",
    "import matplotlib.gridspec as gridspec\n",
    "from sklearn.linear_model import LinearRegression\n",
    "from scipy import linalg\n",
    "\n",
    "eV_to_kJmol=96.485"
   ]
  },
  {
   "cell_type": "markdown",
   "id": "74671a56",
   "metadata": {},
   "source": [
    "# Converting between reaction enthalpies and formation enthalpies\n",
    "\n",
    "The reaction enthalpies calculated from the total DFT energies are conserved when using an atomic reference basis set, regardless of the choice of anchor/reference species. \n",
    "We can use this fact and calculate EOFs if only reaction enthalpies are reported for a mechanism.\n",
    "This problem cannot be formulated for a single species, and it directly becomes a linear algebra problem. \n",
    "For a chemical kinetics network involving $n$ chemical species, a total of $n_a+n_s$ reference species must be defined, where $n_a$ is the number of unique atomic elements of which all species consist and $n_s$ is the number of surface sites (typically one). \n",
    "Let $\\mathbf{\\underline{E}}$ be the zero-point corrected energies of chemical species, $\\mathbf{\\underline{H}}^{A}_{f}$ be the EOFs of the same species given defined references $A$ and $\\mathbf{\\underline{H}}_{r}$ be the reaction energies according to the stoichiometry matrix $\\mathbf{\\underline{\\underline{S}}}$.\n",
    "The stoichiometry matrix $\\mathbf{\\underline{\\underline{S}}}$ contains the stoichiometric numbers of the reactants and products, which are positive for products and negative for reactants (see SI). \n",
    "The relationship between $\\mathbf{\\underline{H}}_{r}$ and $\\mathbf{\\underline{E}}$ is a simple linear combination,\n",
    "\n",
    "\\begin{equation}\n",
    "\\mathbf{\\underline{H}}_{r}=\\mathbf{\\underline{\\underline{S}}}^{\\intercal}\\mathbf{\\underline{H}}_{f}=\\mathbf{\\underline{\\underline{S}}}^{\\intercal}\\mathbf{\\underline{E}}\n",
    "\\end{equation}\n",
    "\n",
    "Since the number of elementary reactions is typically greater than or equal to the number of chemical species, i.e., $m\\ge n$, there exists a direct mapping between $\\mathbf{\\underline{E}}$ and $\\mathbf{\\underline{H}}_{r}$.\n",
    "Yet, no obvious mapping exists in the opposite direction since this is an under-constrained linear system of equations. \n",
    "The Moore-Penrose pseudo-inverse of the stoichiometry matrix $\\mathbf{\\underline{\\underline{S}}}^+$ can be used to construct the inverse mapping. \n",
    "To solve this inverse mapping, it is first necessary to select anchor species for each element from the mechanism, e.g., $A= C_2H_6, CO, H_2O, Pt(111)$.\n",
    "We can separate the stoichiometry matrix $\\mathbf{\\underline{\\underline{S}}}$ into the anchor species $\\mathbf{\\underline{\\underline{S}}}^{A}$ and non-anchor species $\\mathbf{\\underline{\\underline{\\hat{S}}}}$, leading to\n",
    "\n",
    "\\begin{equation}\n",
    "\\mathbf{\\underline{H}}_{r}=\\mathbf{\\underline{\\underline{S}}}^{\\intercal}\\mathbf{\\underline{H}}_{f}=\\mathbf{\\underline{\\underline{\\hat{S}}}}^{\\intercal}\\mathbf{\\underline{\\hat{H}}}_{f}+\\mathbf{\\underline{\\underline{S}}}^{A^{\\intercal}}\\mathbf{\\underline{H}}^{A}_{f}\n",
    "\\end{equation}\n",
    "\n",
    "In this equation, we separate $\\mathbf{\\underline{H}}_{f}$ into the anchor species $\\mathbf{\\underline{H}}^{A}_{f}$ and the unknown EOFs $\\mathbf{\\underline{\\hat{H}}}_{f}$. \n",
    "All EOFs are referenced to the DFT energies of the anchor species. \n",
    "Thus, the EOFs of the anchor species $\\mathbf{\\underline{H}}^{A}_{f}$ are 0.  \n",
    "We can now rearrange the equation to compute the unknown EOFs from the reaction enthalpies referenced to the set of anchor species. \n",
    "\n",
    "\\begin{align}\n",
    "\\mathbf{\\underline{\\underline{S}}}^{\\intercal}\\mathbf{\\underline{\\hat{H}}}_{f} &=\\mathbf{\\underline{\\underline{\\hat{S}}}}^{\\intercal}\\mathbf{\\underline{\\hat{H}}}_{f}+\\mathbf{\\underline{\\underline{S}}}^{A^{\\intercal}}\\mathbf{\\underline{H}}^{A}_{f}\\\\\n",
    "     \\mathbf{\\underline{\\hat{H}}}^{A}_{f} & = \\left(\\mathbf{\\underline{\\underline{\\hat{S}}}}^{\\intercal}\\right)^+ \\left(\\mathbf{\\underline{H}}_{r} -  \\mathbf{\\underline{\\underline{S}}}^{A^{\\intercal}}\\mathbf{\\underline{H}}^{A}_{f}\\right)\\\\\n",
    "      \\mathbf{\\underline{\\hat{H}}}^{A}_{f} & = \\left(\\mathbf{\\underline{\\underline{\\hat{S}}}}^{\\intercal}\\right)^+\\left(\\mathbf{\\underline{\\underline{S}}}^{\\intercal}\\mathbf{\\underline{E}} - \\mathbf{\\underline{\\underline{S}}}^{A^{\\intercal}}\\mathbf{\\underline{H}}^{A}_{f}\\right)\n",
    "\\end{align}\n",
    "\n",
    "We start by constructing the matrix of stoichiometric matrix $\\mathbf{\\underline{\\underline{S}}}$."
   ]
  },
  {
   "cell_type": "code",
   "execution_count": 37,
   "id": "394f0a83",
   "metadata": {},
   "outputs": [
    {
     "data": {
      "text/plain": [
       "array([[ 0., -1.,  0.,  0.,  0.,  0.,  0.,  0.,  0.,  0.],\n",
       "       [ 0.,  0.,  0.,  0.,  0.,  0.,  0.,  0.,  0.,  1.],\n",
       "       [ 1.,  0., -1.,  0.,  0.,  0.,  0.,  0.,  0.,  0.],\n",
       "       [ 0.,  0.,  1., -1.,  0.,  0.,  0.,  0.,  0.,  0.],\n",
       "       [ 0.,  0.,  0.,  0.,  1., -1.,  0.,  0.,  0.,  0.],\n",
       "       [ 0.,  0.,  0.,  1.,  0.,  0.,  0.,  0.,  0., -1.],\n",
       "       [ 0.,  0.,  0.,  0.,  1.,  0.,  0.,  0., -1.,  0.],\n",
       "       [ 0.,  1.,  0.,  0., -1.,  0.,  0.,  0.,  0.,  0.],\n",
       "       [ 0.,  0.,  0.,  0.,  0.,  1., -1.,  0.,  0.,  0.],\n",
       "       [ 0.,  0.,  0.,  0.,  0.,  0.,  1., -1.,  0.,  0.],\n",
       "       [ 0.,  0.,  1.,  1.,  0., -1., -1.,  0.,  0.,  0.],\n",
       "       [-1., -1., -1., -1., -1.,  1.,  1.,  1.,  1.,  1.],\n",
       "       [-1.,  0.,  0.,  0.,  0.,  0.,  0.,  0.,  0.,  0.],\n",
       "       [ 0.,  0.,  0.,  0.,  0.,  0.,  0.,  1.,  0.,  0.],\n",
       "       [ 0.,  0.,  0.,  0.,  0.,  0.,  0.,  0.,  1.,  0.]])"
      ]
     },
     "execution_count": 37,
     "metadata": {},
     "output_type": "execute_result"
    }
   ],
   "source": [
    "# Stoichiometry of each elementary reaction in the mechanism\n",
    "reactions = [\n",
    "    {\"X\": -1, \"C2H6\": -1, \"C2H6X\": 1},        \n",
    "    {\"X\": -1, \"CO2\": -1, \"CO2X\": 1},                     \n",
    "    {\"X\": -1, \"C2H6X\": -1, \"XH\": 1, \"XCH2CH3\": 1},   \n",
    "    {\"X\": -1, \"XCH2CH3\": -1, \"XH\": 1, \"XCH2XCH2\": 1},\n",
    "    {\"X\": -1, \"CO2X\": -1, \"XCO\": 1, \"XO\":1},\n",
    "    {\"XO\": -1, \"XH\": -1, \"X\": 1, \"XOH\": 1},            \n",
    "    {\"XOH\": -1, \"XH\": -1, \"H2OX\": 1, \"X\": 1},            \n",
    "    {\"H2OX\": -1, \"H2O\": 1, \"X\": 1},                      \n",
    "    {\"XCO\": -1, \"CO\": 1, \"X\": 1},                  \n",
    "    {\"XCH2XCH2\": -1, \"C2H4\": 1, \"X\":1},         \n",
    "]\n",
    "\n",
    "#Species in the reaction mechanism\n",
    "species = ['CO2', 'C2H4', 'C2H6X', 'XCH2CH3', 'XO', 'XCH2XCH2', 'XCO', \n",
    "           'CO2X', 'XOH', 'H2OX', 'XH', 'X', 'C2H6','H2O', 'CO']\n",
    "#the last for species will be our reference species\n",
    "\n",
    "# Creating the stoichiometry matrix\n",
    "S = np.zeros((len(species), len(reactions)))\n",
    "\n",
    "# Filling the matrix\n",
    "for j, reaction in enumerate(reactions):\n",
    "    for reactant, stoich_coeff in reaction.items():\n",
    "        i = species.index(reactant)\n",
    "        S[i, j] = stoich_coeff\n",
    "        \n",
    "S"
   ]
  },
  {
   "cell_type": "markdown",
   "id": "3e3749ef",
   "metadata": {},
   "source": [
    "We can then calculate the enthalpies of reaction from the BEEF-vdW DFT energies\n",
    "\n",
    "\\begin{equation}\n",
    "\\mathbf{\\underline{H}}_{r}=\\mathbf{\\underline{\\underline{S}}}^{\\intercal}\\mathbf{\\underline{H}}_{f}\n",
    "\\end{equation}\n"
   ]
  },
  {
   "cell_type": "code",
   "execution_count": 38,
   "id": "af084ff2",
   "metadata": {},
   "outputs": [
    {
     "data": {
      "text/plain": [
       "array([-18.47746606,  -5.93730097,   5.5092935 , -11.48171501,\n",
       "        55.87446348,   6.78289551, -85.29273999,  18.28310668,\n",
       "       136.53682082,  89.39811156])"
      ]
     },
     "execution_count": 38,
     "metadata": {},
     "output_type": "execute_result"
    }
   ],
   "source": [
    "#We use the BEEF-vdW DFT energies to calculate the reaction enthalpies for the reactions above\n",
    "species_energies = {\n",
    "    \"X\": -377616.072,\n",
    "    \"C2H6\": -615.3019939,\n",
    "    \"H2O\": -611.0186083,\n",
    "    \"CO2\": -1414.682864,\n",
    "    \"C2H6X\" : -378231.5655,\n",
    "    \"XCH2CH3\": -378214.9168,\n",
    "    \"XO\": -378193.2832,\n",
    "    \"XCH2XCH2\": -378198.4442,  \n",
    "    \"XCO\": -378453.0261, \n",
    "    \"CO2X\": -379030.8164,\n",
    "    \"XOH\": -378209.8045,\n",
    "    \"H2OX\": -378227.2801,    \n",
    "    \"XH\": -377632.6636,\n",
    "    \"CO\": -835.5389907,\n",
    "    \"C2H4\":-581.44565067567,   \n",
    "}\n",
    "\n",
    "#Sort the species energies according to the defined species list\n",
    "E = np.array([species_energies[_]*eV_to_kJmol for _ in species])\n",
    "\n",
    "#Calculate the enthalpies of formation\n",
    "Hr=S.T.dot(E)\n",
    "Hr"
   ]
  },
  {
   "cell_type": "markdown",
   "id": "51a41475",
   "metadata": {},
   "source": [
    "We select anchor species for each element from the mechanism, in this case $A= C_2H_6, CO, H_2O, Pt(111)$. Since we are creating a local thermochemical network in the DFT energy reference frame, we set the enthalpies of formation of these anchor species to 0. "
   ]
  },
  {
   "cell_type": "code",
   "execution_count": 39,
   "id": "67a86f74",
   "metadata": {},
   "outputs": [
    {
     "data": {
      "text/plain": [
       "array([0, 0, 0, 0])"
      ]
     },
     "execution_count": 39,
     "metadata": {},
     "output_type": "execute_result"
    }
   ],
   "source": [
    "# Enthalpies of formation of the reference species are assumed to be zero\n",
    "\n",
    "Hf_A_dict = {\n",
    "    \"X\": 0,\n",
    "    \"C2H6\": 0,\n",
    "    \"H2O\": 0,\n",
    "    \"CO\":0,\n",
    "}\n",
    "\n",
    "ref_species=Hf_A_dict.keys()\n",
    "\n",
    "#Remove the reference species from the row space\n",
    "S_A=S[-4:] # these are the reference species\n",
    "S_hat=S[0:-4] # this is the rest of the stoichiometry matrix\n",
    "\n",
    "#Array of the enthalpies of formation of the anchor species\n",
    "Hf_A =  np.array( [Hf_A_dict[_] for _ in Hf_A_dict.keys()])\n",
    "Hf_A"
   ]
  },
  {
   "cell_type": "markdown",
   "id": "6b5efaef",
   "metadata": {},
   "source": [
    "We can then determine the enthalpies of formation of the target species via \n",
    "\n",
    "\\begin{align}\n",
    "      \\mathbf{\\underline{\\hat{H}}}^{A}_{f} & = \\left(\\mathbf{\\underline{\\underline{\\hat{S}}}}^{\\intercal}\\right)^+\\left(\\mathbf{\\underline{\\underline{S}}}^{\\intercal}\\mathbf{\\underline{E}} - \\mathbf{\\underline{\\underline{S}}}^{A^{\\intercal}}\\mathbf{\\underline{H}}^{A}_{f}\\right)\n",
    "\\end{align}\n"
   ]
  },
  {
   "cell_type": "code",
   "execution_count": 40,
   "id": "5e6362c9",
   "metadata": {},
   "outputs": [
    {
     "data": {
      "text/plain": [
       "{'CO2': -103.51924771423782,\n",
       " 'C2H4': 87.67622179997441,\n",
       " 'C2H6X': -18.4774660616313,\n",
       " 'XCH2CH3': -1.6041736579411054,\n",
       " 'XO': 82.95473561961573,\n",
       " 'XCH2XCH2': -1.7218897594761415,\n",
       " 'XCO': -136.53682081535223,\n",
       " 'CO2X': -109.45654867942767,\n",
       " 'XOH': 78.37363221796271,\n",
       " 'H2OX': -18.283106676492075,\n",
       " 'XH': -11.363998907081395,\n",
       " 'X': 0,\n",
       " 'C2H6': 0,\n",
       " 'H2O': 0,\n",
       " 'CO': 0}"
      ]
     },
     "execution_count": 40,
     "metadata": {},
     "output_type": "execute_result"
    }
   ],
   "source": [
    "#Calculate the enthalpies of formation of the target species using the pseudo-inverse\n",
    "Hf= np.linalg.pinv(S_hat.T).dot(Hr-S_A.T.dot(Hf_A))\n",
    "\n",
    "targets=species-ref_species\n",
    "\n",
    "#Create a dictionary with the results\n",
    "enthalpies_of_formation = {species[i]: Hf[i] for i in range(len(targets))}\n",
    "#Append the enthalpies of formation of the reference species to the enthalpies of formation dictionary\n",
    "enthalpies_of_formation.update(Hf_A_dict)\n",
    "enthalpies_of_formation"
   ]
  },
  {
   "cell_type": "code",
   "execution_count": 41,
   "id": "ee68adf0",
   "metadata": {},
   "outputs": [
    {
     "data": {
      "text/plain": [
       "{'CO': -113.8,\n",
       " 'C2H4': 60.89,\n",
       " 'C2H6X': -86.85746606163123,\n",
       " 'XCH2CH3': -63.165662507947296,\n",
       " 'XO': -142.31024208039625,\n",
       " 'XCH2XCH2': -56.46486745948849,\n",
       " 'XCO': -200.86259539769708,\n",
       " 'CO2X': -399.0473009617847,\n",
       " 'XOH': -153.7098566320432,\n",
       " 'H2OX': -257.18510667649196,\n",
       " 'XH': -18.182510057075245,\n",
       " 'X': 0,\n",
       " 'C2H6': -68.38,\n",
       " 'H2O': -238.902,\n",
       " 'CO2': -393.11}"
      ]
     },
     "execution_count": 41,
     "metadata": {},
     "output_type": "execute_result"
    }
   ],
   "source": [
    "# Stoichiometry of each elementary reaction in the mechanism\n",
    "reactions = [\n",
    "    {\"X\": -1, \"C2H6\": -1, \"C2H6X\": 1},        \n",
    "    {\"X\": -1, \"CO2\": -1, \"CO2X\": 1},                     \n",
    "    {\"X\": -1, \"C2H6X\": -1, \"XH\": 1, \"XCH2CH3\": 1},   \n",
    "    {\"X\": -1, \"XCH2CH3\": -1, \"XH\": 1, \"XCH2XCH2\": 1},\n",
    "    {\"X\": -1, \"CO2X\": -1, \"XCO\": 1, \"XO\":1},\n",
    "    {\"XO\": -1, \"XH\": -1, \"X\": 1, \"XOH\": 1},            \n",
    "    {\"XOH\": -1, \"XH\": -1, \"H2OX\": 1, \"X\": 1},            \n",
    "    {\"H2OX\": -1, \"H2O\": 1, \"X\": 1},                      \n",
    "    {\"XCO\": -1, \"CO\": 1, \"X\": 1},                  \n",
    "    {\"XCH2XCH2\": -1, \"C2H4\": 1, \"X\":1},         \n",
    "]\n",
    "\n",
    "#Species in the reaction mechanism\n",
    "species = ['CO','C2H4','C2H6X', 'XCH2CH3', 'XO', 'XCH2XCH2', 'XCO', \n",
    "           'CO2X', 'XOH', 'H2OX', 'XH', 'X', 'C2H6','H2O', 'CO2']\n",
    "#the last for species will be our reference species\n",
    "\n",
    "# Creating the stoichiometry matrix\n",
    "S = np.zeros((len(species), len(reactions)))\n",
    "\n",
    "# Filling the matrix\n",
    "for j, reaction in enumerate(reactions):\n",
    "    for reactant, stoich_coeff in reaction.items():\n",
    "        i = species.index(reactant)\n",
    "        S[i, j] = stoich_coeff\n",
    "        \n",
    "S\n",
    "\n",
    "#We use the BEEF-vdW DFT energies to calculate the reaction enthalpies for the reactions above\n",
    "species_energies = {\n",
    "    \"X\": -377616.072,\n",
    "    \"C2H6\": -615.3019939,\n",
    "    \"H2O\": -611.0186083,\n",
    "    \"CO2\": -1414.682864,\n",
    "    \"C2H6X\" : -378231.5655,\n",
    "    \"XCH2CH3\": -378214.9168,\n",
    "    \"XO\": -378193.2832,\n",
    "    \"XCH2XCH2\": -378198.4442,  \n",
    "    \"XCO\": -378453.0261, \n",
    "    \"CO2X\": -379030.8164,\n",
    "    \"XOH\": -378209.8045,\n",
    "    \"H2OX\": -378227.2801,    \n",
    "    \"XH\": -377632.6636,\n",
    "    \"CO\": -835.5389907,\n",
    "    \"C2H4\":-581.44565067567,   \n",
    "}\n",
    "\n",
    "#Sort the species energies according to the defined species list\n",
    "E = np.array([species_energies[_]*eV_to_kJmol for _ in species])\n",
    "\n",
    "#Calculate the enthalpies of formation\n",
    "Hr=S.T.dot(E)\n",
    "Hr\n",
    "\n",
    "# Enthalpies of formation of the reference species are assumed to be zero\n",
    "Hf_A_dict = {\n",
    "    \"X\": 0,\n",
    "    \"C2H6\":  -68.38,\n",
    "    \"H2O\": -238.902,\n",
    "    \"CO2\":-393.11,\n",
    "}\n",
    "\n",
    "ATcT = {\n",
    "    \"C2H4\": 60.89,\n",
    "    \"CO\":-113.8,\n",
    "}\n",
    "\n",
    "ref_species=Hf_A_dict.keys()\n",
    "\n",
    "#Remove the reference species from the row space\n",
    "S_A=S[-4:] # these are the reference species\n",
    "S_hat=S[0:-4] # this is the rest of the stoichiometry matrix\n",
    "\n",
    "#Array of the enthalpies of formation of the anchor species\n",
    "Hf_A =  np.array( [Hf_A_dict[_] for _ in Hf_A_dict.keys()])\n",
    "Hf_A\n",
    "\n",
    "#Calculate the enthalpies of formation of the target species using the pseudo-inverse\n",
    "Hf= np.linalg.pinv(S_hat.T).dot(Hr-S_A.T.dot(Hf_A))\n",
    "\n",
    "targets=species-ref_species\n",
    "\n",
    "#Create a dictionary with the results\n",
    "enthalpies_of_formation_global = {species[i]: Hf[i] for i in range(len(targets))}\n",
    "#Append the enthalpies of formation of the reference species to the enthalpies of formation dictionary\n",
    "enthalpies_of_formation_global.update(Hf_A_dict)\n",
    "enthalpies_of_formation_global.update(ATcT)\n",
    "enthalpies_of_formation_global"
   ]
  },
  {
   "cell_type": "code",
   "execution_count": 42,
   "id": "40f7b59f",
   "metadata": {},
   "outputs": [
    {
     "data": {
      "text/plain": [
       "array([[ 1.00000000e+00,  0.00000000e+00,  0.00000000e+00,\n",
       "         1.11022302e-16],\n",
       "       [ 9.28571429e-01, -2.85714286e-01,  1.42857143e-01,\n",
       "         2.14285714e-01],\n",
       "       [ 8.57142857e-01, -5.71428571e-01,  2.85714286e-01,\n",
       "         4.28571429e-01],\n",
       "       [-7.14285714e-02,  7.14285714e-01,  1.42857143e-01,\n",
       "         2.14285714e-01],\n",
       "       [ 0.00000000e+00,  1.00000000e+00,  0.00000000e+00,\n",
       "         1.11022302e-16]])"
      ]
     },
     "execution_count": 42,
     "metadata": {},
     "output_type": "execute_result"
    }
   ],
   "source": [
    "# Define the species and their elemental compositions in a dictionary\n",
    "references_compositions = {\n",
    "    \"C2H6X\": {\"C\": 2, \"H\": 6, \"O\": 0, \"X\": 1},\n",
    "    \"H2OX\": {\"C\": 0, \"H\": 2, \"O\": 1, \"X\": 1},\n",
    "    \"CO2X\": {\"C\": 1, \"H\": 0, \"O\": 2, \"X\": 1},\n",
    "    \"X\": {\"C\": 0, \"H\": 0, \"O\": 0, \"X\": 1},\n",
    "}\n",
    "\n",
    "references=list(references_compositions.keys())\n",
    "num_elements=4\n",
    "# Create a matrix to hold the elemental compositions of the reference species\n",
    "num_references = len(references_compositions)\n",
    "N_A = np.zeros((num_references, num_elements))\n",
    "\n",
    "# Fill in the elemental composition matrix of the reference species\n",
    "for s, composition in references_compositions.items():\n",
    "    i = references.index(s)\n",
    "    N_A[i, :] = [composition[\"C\"], composition[\"H\"], composition[\"O\"], composition[\"X\"]]\n",
    "    \n",
    "N_A\n",
    "\n",
    "np.linalg.inv(N_A)\n",
    "\n",
    "# Define the species and their elemental compositions in a dictionary\n",
    "species_compositions = {\n",
    "    \"C2H6X\": {\"C\": 2, \"H\": 6, \"O\": 0, \"X\": 1},\n",
    "    \"XCH2CH3\": {\"C\": 2, \"H\": 5, \"O\": 0, \"X\": 1},\n",
    "    \"XCH2XCH2\": {\"C\": 2, \"H\": 4, \"O\": 0, \"X\": 1},\n",
    "    #\"CO2X\": {\"C\": 1, \"H\": 0, \"O\": 2, \"X\": 1},\n",
    "    \"XOH\": {\"C\": 0, \"H\": 1, \"O\": 1, \"X\": 1},\n",
    "    \"H2OX\": {\"C\": 0, \"H\": 2, \"O\": 1, \"X\": 1},\n",
    "}\n",
    "\n",
    "species=list(species_compositions.keys())\n",
    "\n",
    "# Create a matrix to hold the elemental compositions of the target species\n",
    "num_species = len(species_compositions)\n",
    "num_elements = 4  # C, H, O, X\n",
    "N = np.zeros((num_species, num_elements))\n",
    "\n",
    "# Fill in the elemental composition matrix of the target species\n",
    "for s, composition in species_compositions.items():\n",
    "    i = species.index(s)\n",
    "    N[i, :] = [composition[\"C\"], composition[\"H\"], composition[\"O\"], composition[\"X\"]]\n",
    "    \n",
    "M=N.dot(np.linalg.inv(N_A))\n",
    "M"
   ]
  },
  {
   "cell_type": "code",
   "execution_count": 43,
   "id": "07c88cab",
   "metadata": {},
   "outputs": [
    {
     "name": "stderr",
     "output_type": "stream",
     "text": [
      "<>:31: SyntaxWarning: invalid escape sequence '\\m'\n",
      "<>:47: SyntaxWarning: invalid escape sequence '\\m'\n",
      "<>:48: SyntaxWarning: invalid escape sequence '\\m'\n",
      "<>:49: SyntaxWarning: invalid escape sequence '\\m'\n",
      "<>:50: SyntaxWarning: invalid escape sequence '\\m'\n",
      "<>:51: SyntaxWarning: invalid escape sequence '\\m'\n",
      "<>:52: SyntaxWarning: invalid escape sequence '\\m'\n",
      "<>:53: SyntaxWarning: invalid escape sequence '\\m'\n",
      "<>:54: SyntaxWarning: invalid escape sequence '\\m'\n",
      "<>:55: SyntaxWarning: invalid escape sequence '\\m'\n",
      "<>:56: SyntaxWarning: invalid escape sequence '\\m'\n",
      "<>:57: SyntaxWarning: invalid escape sequence '\\m'\n",
      "<>:31: SyntaxWarning: invalid escape sequence '\\m'\n",
      "<>:47: SyntaxWarning: invalid escape sequence '\\m'\n",
      "<>:48: SyntaxWarning: invalid escape sequence '\\m'\n",
      "<>:49: SyntaxWarning: invalid escape sequence '\\m'\n",
      "<>:50: SyntaxWarning: invalid escape sequence '\\m'\n",
      "<>:51: SyntaxWarning: invalid escape sequence '\\m'\n",
      "<>:52: SyntaxWarning: invalid escape sequence '\\m'\n",
      "<>:53: SyntaxWarning: invalid escape sequence '\\m'\n",
      "<>:54: SyntaxWarning: invalid escape sequence '\\m'\n",
      "<>:55: SyntaxWarning: invalid escape sequence '\\m'\n",
      "<>:56: SyntaxWarning: invalid escape sequence '\\m'\n",
      "<>:57: SyntaxWarning: invalid escape sequence '\\m'\n",
      "/tmp/ipykernel_1899416/2824913031.py:31: SyntaxWarning: invalid escape sequence '\\m'\n",
      "  ax0.set_ylabel('$\\mathrm{enthalpy\\ (kJ\\,mol^{-1})}$')\n",
      "/tmp/ipykernel_1899416/2824913031.py:47: SyntaxWarning: invalid escape sequence '\\m'\n",
      "  tags=('$\\mathbf{CH_3CH_3}$\\n$\\mathbf{CO_2}$',\n",
      "/tmp/ipykernel_1899416/2824913031.py:48: SyntaxWarning: invalid escape sequence '\\m'\n",
      "  '$\\mathbf{CH_3CH_3^*}$\\n$\\mathbf{CO_2}$',\n",
      "/tmp/ipykernel_1899416/2824913031.py:49: SyntaxWarning: invalid escape sequence '\\m'\n",
      "  '$\\mathbf{CH_3CH_3^*}$\\n$\\mathbf{CO_2^*}$',\n",
      "/tmp/ipykernel_1899416/2824913031.py:50: SyntaxWarning: invalid escape sequence '\\m'\n",
      "  '$\\mathbf{^*CH_2CH_3}$\\n$\\mathbf{CO_2^*}$\\n$\\mathbf{^*H}$',\n",
      "/tmp/ipykernel_1899416/2824913031.py:51: SyntaxWarning: invalid escape sequence '\\m'\n",
      "  '$\\mathbf{^*CH_2^*CH_2}$\\n$\\mathbf{CO_2^*}$\\n$\\mathbf{2 ^*H}$',\n",
      "/tmp/ipykernel_1899416/2824913031.py:52: SyntaxWarning: invalid escape sequence '\\m'\n",
      "  '$\\mathbf{^*CH_2^*CH_2}$\\n$\\mathbf{^*CO}$\\n$\\mathbf{^*O}$\\n$\\mathbf{2 ^*H}$',\n",
      "/tmp/ipykernel_1899416/2824913031.py:53: SyntaxWarning: invalid escape sequence '\\m'\n",
      "  '$\\mathbf{^*CH_2^*CH_2}$\\n$\\mathbf{^*CO}$\\n$\\mathbf{^*OH}$\\n$\\mathbf{^*H}$',\n",
      "/tmp/ipykernel_1899416/2824913031.py:54: SyntaxWarning: invalid escape sequence '\\m'\n",
      "  '$\\mathbf{^*CH_2^*CH_2}$\\n$\\mathbf{^*CO}$\\n$\\mathbf{H_2O^*}$',\n",
      "/tmp/ipykernel_1899416/2824913031.py:55: SyntaxWarning: invalid escape sequence '\\m'\n",
      "  '$\\mathbf{CH_2CH_2}$\\n$\\mathbf{^*CO}$\\n$\\mathbf{H_2O^*}$',\n",
      "/tmp/ipykernel_1899416/2824913031.py:56: SyntaxWarning: invalid escape sequence '\\m'\n",
      "  '$\\mathbf{CH_2CH_2}$\\n$\\mathbf{CO}$\\n$\\mathbf{H_2O^*}$',\n",
      "/tmp/ipykernel_1899416/2824913031.py:57: SyntaxWarning: invalid escape sequence '\\m'\n",
      "  '$\\mathbf{CH_2CH_2}$\\n$\\mathbf{CO}$\\n$\\mathbf{H_2O}$',\n"
     ]
    },
    {
     "data": {
      "image/png": "[encoded data removed]",
      "text/plain": [
       "<Figure size 1400x800 with 1 Axes>"
      ]
     },
     "metadata": {},
     "output_type": "display_data"
    }
   ],
   "source": [
    "plt.rcParams['figure.figsize'] = (14, 8)\n",
    "plt.rcParams['axes.linewidth'] = 3\n",
    "plt.rc('xtick', labelsize=20)\n",
    "plt.rc('ytick', labelsize=20)\n",
    "plt.rc('axes', labelsize=20)\n",
    "plt.rc('legend', fontsize=20)\n",
    "plt.rcParams['lines.markersize'] = 10\n",
    "plt.rcParams['lines.linewidth'] = 4\n",
    "plt.rcParams['xtick.direction'] = 'in'\n",
    "plt.rcParams['ytick.direction'] = 'in'\n",
    "plt.rcParams['xtick.major.size'] = 10\n",
    "plt.rcParams['xtick.major.width'] = 2\n",
    "plt.rcParams['ytick.major.size'] = 10\n",
    "plt.rcParams['ytick.major.width'] = 2\n",
    "plt.rcParams['legend.edgecolor'] = 'k'\n",
    "plt.rcParams['axes.unicode_minus'] = False\n",
    "plt.rcParams[\"legend.framealpha\"] = 1\n",
    "plt.rcParams['xtick.major.pad'] = 8\n",
    "plt.rcParams['ytick.major.pad'] = 8\n",
    "\n",
    "gs = gridspec.GridSpec(nrows=1, ncols=1)\n",
    "gs.update(wspace=0.5, hspace=0.5)\n",
    "ax0 = plt.subplot(gs[0, 0])\n",
    "\n",
    "#ax0.set_ylim([-200,200])\n",
    "ax0.set_xlim([-1,44])\n",
    "ax0.get_xaxis().set_visible(False)\n",
    "ax0.spines['right'].set_visible(False)\n",
    "ax0.spines['top'].set_visible(False)\n",
    "ax0.spines['bottom'].set_visible(False)\n",
    "ax0.set_ylabel('$\\mathrm{enthalpy\\ (kJ\\,mol^{-1})}$')\n",
    "\n",
    "\n",
    "mechanism=({'C2H6':1,'CO2':1},\n",
    "    {'C2H6X':1,'CO2':1},\n",
    "    {'C2H6X':1,'CO2X':1},\n",
    "    {'XCH2CH3':1,'CO2X':1,'XH':1},\n",
    "    {'XCH2XCH2':1,'CO2X':1,'XH':2},\n",
    "    {'XCH2XCH2':1,'XCO':1,'XO':1,'XH':2},\n",
    "    {'XCH2XCH2':1,'XCO':1,'XOH':1,'XH':1},\n",
    "    {'XCH2XCH2':1,'XCO':1,'H2OX':1},\n",
    "    {'C2H4':1,'XCO':1,'H2OX':1},\n",
    "    {'C2H4':1,'CO':1,'H2OX':1}, \n",
    "    {'C2H4':1,'CO':1,'H2O':1},\n",
    "    )\n",
    "\n",
    "tags=('$\\mathbf{CH_3CH_3}$\\n$\\mathbf{CO_2}$',\n",
    "      '$\\mathbf{CH_3CH_3^*}$\\n$\\mathbf{CO_2}$',\n",
    "      '$\\mathbf{CH_3CH_3^*}$\\n$\\mathbf{CO_2^*}$',\n",
    "      '$\\mathbf{^*CH_2CH_3}$\\n$\\mathbf{CO_2^*}$\\n$\\mathbf{^*H}$',\n",
    "      '$\\mathbf{^*CH_2^*CH_2}$\\n$\\mathbf{CO_2^*}$\\n$\\mathbf{2 ^*H}$',\n",
    "      '$\\mathbf{^*CH_2^*CH_2}$\\n$\\mathbf{^*CO}$\\n$\\mathbf{^*O}$\\n$\\mathbf{2 ^*H}$',\n",
    "      '$\\mathbf{^*CH_2^*CH_2}$\\n$\\mathbf{^*CO}$\\n$\\mathbf{^*OH}$\\n$\\mathbf{^*H}$',\n",
    "      '$\\mathbf{^*CH_2^*CH_2}$\\n$\\mathbf{^*CO}$\\n$\\mathbf{H_2O^*}$',\n",
    "      '$\\mathbf{CH_2CH_2}$\\n$\\mathbf{^*CO}$\\n$\\mathbf{H_2O^*}$',\n",
    "      '$\\mathbf{CH_2CH_2}$\\n$\\mathbf{CO}$\\n$\\mathbf{H_2O^*}$',\n",
    "      '$\\mathbf{CH_2CH_2}$\\n$\\mathbf{CO}$\\n$\\mathbf{H_2O}$',\n",
    ")\n",
    "\n",
    "# Function to compute the sum for each step in the mechanism\n",
    "def compute_sum(vec,dictionary):\n",
    "    return sum(vec[key] * value for key, value in dictionary.items())\n",
    "\n",
    "def ediagram(ref_system):\n",
    "    system = [compute_sum(ref_system,entry) for entry in mechanism]\n",
    "    rel_EOFs=np.zeros(len(system))\n",
    "    for i, Hf_i in enumerate(system):\n",
    "        start = i * 4\n",
    "        end = start + 3\n",
    "        ax0.plot((start, end), (Hf_i-system[0], Hf_i-system[0]), linestyle='solid', color='b')\n",
    "        if i>0:\n",
    "            ax0.plot((start-1,start),(system[i-1]-system[0],Hf_i-system[0]),linestyle='dashed',color='b', linewidth=1)\n",
    "        rel_EOFs[i]=Hf_i-system[0]\n",
    "    return rel_EOFs\n",
    "\n",
    "values=ediagram(enthalpies_of_formation)\n",
    "values=ediagram(enthalpies_of_formation_global)\n",
    "\n",
    "for i in range(len(np.array(values).T)):\n",
    "    start = i * 4\n",
    "    ax0.text(start+1.5,np.array(values).T[i]-5,tags[i],va='top',ha='center',size=12)"
   ]
  },
  {
   "cell_type": "markdown",
   "id": "630d6bd4",
   "metadata": {},
   "source": [
    "# Converting between hypothetical reaction enthalpies based on the species composition matrix"
   ]
  },
  {
   "cell_type": "markdown",
   "id": "634bf575",
   "metadata": {},
   "source": [
    "Building the "
   ]
  },
  {
   "cell_type": "code",
   "execution_count": 55,
   "id": "dc49d6e4",
   "metadata": {},
   "outputs": [
    {
     "data": {
      "text/plain": [
       "array([[1., 0., 1., 0.],\n",
       "       [2., 4., 0., 0.],\n",
       "       [2., 6., 0., 1.],\n",
       "       [2., 5., 0., 1.],\n",
       "       [0., 0., 1., 1.],\n",
       "       [2., 4., 0., 1.],\n",
       "       [1., 0., 1., 1.],\n",
       "       [1., 0., 2., 1.],\n",
       "       [0., 1., 1., 1.],\n",
       "       [0., 2., 1., 1.],\n",
       "       [0., 1., 0., 1.],\n",
       "       [0., 0., 0., 1.],\n",
       "       [2., 6., 0., 0.],\n",
       "       [0., 2., 1., 0.],\n",
       "       [1., 0., 2., 0.]])"
      ]
     },
     "execution_count": 55,
     "metadata": {},
     "output_type": "execute_result"
    }
   ],
   "source": [
    "# Define the species and their elemental compositions in a dictionary\n",
    "\n",
    "species = ['CO','C2H4','C2H6X', 'XCH2CH3', 'XO', 'XCH2XCH2', 'XCO', \n",
    "           'CO2X', 'XOH', 'H2OX', 'XH', 'X', 'C2H6','H2O', 'CO2']\n",
    "\n",
    "species_compositions = {\n",
    "    \"X\": {\"C\": 0, \"H\": 0, \"O\": 0, \"X\": 1}, \n",
    "    \"C2H6\": {\"C\": 2, \"H\": 6, \"O\": 0, \"X\": 0},\n",
    "    \"H2O\": {\"C\": 0, \"H\": 2, \"O\": 1, \"X\": 0},    \n",
    "    \"CO2\": {\"C\": 1, \"H\": 0, \"O\": 2, \"X\": 0},\n",
    "    \"C2H6X\": {\"C\": 2, \"H\": 6, \"O\": 0, \"X\": 1},\n",
    "    \"XCH2CH3\": {\"C\": 2, \"H\": 5, \"O\": 0, \"X\": 1},    \n",
    "    \"XO\": {\"C\": 0, \"H\": 0, \"O\": 1, \"X\": 1},\n",
    "    \"XCH2XCH2\": {\"C\": 2, \"H\": 4, \"O\": 0, \"X\": 1},    \n",
    "    \"XCO\": {\"C\": 1, \"H\": 0, \"O\": 1, \"X\": 1},\n",
    "    \"CO2X\": {\"C\": 1, \"H\": 0, \"O\": 2, \"X\": 1},\n",
    "    \"XOH\": {\"C\": 0, \"H\": 1, \"O\": 1, \"X\": 1},\n",
    "    \"H2OX\": {\"C\": 0, \"H\": 2, \"O\": 1, \"X\": 1},   \n",
    "    \"XH\": {\"C\": 0, \"H\": 1, \"O\": 0, \"X\": 1},\n",
    "    \"CO\": {\"C\": 1, \"H\": 0, \"O\": 1, \"X\": 0},\n",
    "    \"C2H4\": {\"C\": 2, \"H\": 4, \"O\": 0, \"X\": 0},\n",
    "}\n",
    "\n",
    "# species=list(species_compositions.keys())\n",
    "\n",
    "# Create a matrix to hold the elemental compositions of the target species\n",
    "num_species = len(species)\n",
    "num_elements = 4  # C, H, O, X\n",
    "N = np.zeros((num_species, num_elements))\n",
    "\n",
    "# Fill in the elemental composition matrix of the target species\n",
    "for s in species:\n",
    "    composition = species_compositions[s]\n",
    "    i = species.index(s)\n",
    "    N[i, :] = [composition[\"C\"], composition[\"H\"], composition[\"O\"], composition[\"X\"]]\n",
    "    \n",
    "N"
   ]
  },
  {
   "cell_type": "markdown",
   "id": "f5b7ca15",
   "metadata": {},
   "source": [
    "Any stoichiometric matrix involving these species can be represented in terms of vectors in the nullspace of $\\mathbf{\\underline{\\underline{N}}}\\coloneqq \\{\\underline{v} : \\mathbf{\\underline{\\underline{N}}}^{\\intercal}\\underline{v}=\\mathbf{\\underline{0}}\\}$ \n",
    "\n",
    "This is a direct consequence of the atomic material balance that must be satisfied for any valid chemical reaction. \n",
    "\n",
    "A set of vectors $\\mathbf{\\underline{\\underline{V}}}=\\{\\mathbf{\\underline{v}_i}\\}$ where $\\mathbf{\\underline{v}_i^\\intercal\\underline{v}_j}=0$ for $i\\ne j$ can be obtained through singular-value decomposition of $\\mathbf{\\underline{\\underline{N}}}$, with the set of orthogonal vectors that span the rowspace of $\\mathbf{\\underline{\\underline{N}}}$ associated with zero singular values."
   ]
  },
  {
   "cell_type": "code",
   "execution_count": 72,
   "id": "5acb6818",
   "metadata": {},
   "outputs": [],
   "source": [
    "U,s,Vt_ = np.linalg.svd(N.T,full_matrices=True) \n",
    "V = Vt_.T[:,len(s):] # picking  values that are associated with zero singular values"
   ]
  },
  {
   "cell_type": "markdown",
   "id": "37f45e5a",
   "metadata": {},
   "source": [
    "As an example, the current stoichiometry matrix $\\mathbf{\\underline{\\underline{S}}}$, has its unique representation in $\\mathbf{\\underline{\\underline{V}}}$ as $\\mathbf{\\underline{\\underline{S}}}=\\mathbf{\\underline{\\underline{V}}}\\mathbf{\\underline{{w}}}$.\n",
    "\n",
    "Where $\\mathbf{\\underline{{w}}}$ can be determined as the projection of $\\mathbf{\\underline{\\underline{S}}}$ onto $\\mathbf{\\underline{\\underline{V}}}$, as $\\mathbf{\\underline{{w}}}=\\mathbf{\\underline{\\underline{V}}}^\\intercal\\mathbf{\\underline{\\underline{S}}}$.\n",
    "\n",
    "We can define the projection matrix $\\mathbf{\\underline{\\underline{P}}}=\\mathbf{\\underline{\\underline{V}}}^\\intercal\\mathbf{\\underline{\\underline{V}}}$ such that $\\mathbf{\\underline{\\underline{S}}}=\\mathbf{\\underline{\\underline{P}}}\\mathbf{\\underline{\\underline{S}}}\\therefore (\\mathbf{\\underline{\\underline{I}}}-\\mathbf{\\underline{\\underline{P}}})\\mathbf{\\underline{\\underline{S}}}=\\mathbf{\\underline{\\underline{0}}}$.\n",
    "\n",
    "The latter is the orthogonal projection of $\\mathbf{\\underline{\\underline{S}}}$ onto the orthogonal complement of $\\mathbf{\\underline{\\underline{V}}}$ which is zero.\n"
   ]
  },
  {
   "cell_type": "markdown",
   "id": "e48d4dad",
   "metadata": {},
   "source": [
    "\n",
    "See example below."
   ]
  },
  {
   "cell_type": "code",
   "execution_count": 83,
   "id": "36df3f20",
   "metadata": {},
   "outputs": [
    {
     "data": {
      "text/plain": [
       "Text(0.5, 1.0, 'S-PS')"
      ]
     },
     "execution_count": 83,
     "metadata": {},
     "output_type": "execute_result"
    },
    {
     "data": {
      "image/png": "[encoded data removed]",
      "text/plain": [
       "<Figure size 500x500 with 2 Axes>"
      ]
     },
     "metadata": {},
     "output_type": "display_data"
    }
   ],
   "source": [
    "plt.figure(figsize=[5,5])\n",
    "plt.imshow(S-(B.dot(B.T)).dot(S)); plt.colorbar()\n",
    "plt.title('S-PS')"
   ]
  },
  {
   "cell_type": "markdown",
   "id": "12375108",
   "metadata": {},
   "source": [
    "This means since any $\\mathbf{\\underline{\\underline{S}}}$ can be represented in terms of $\\mathbf{\\underline{\\underline{V}}}$, $\\mathbf{\\underline{\\underline{V}}}$ itself is a valid stoichiometry matrix, and can be used to derive reaction energies without the need to explicitly define each reaction edge.\n",
    "\n",
    "Reproducing the steps of the previous section with $\\mathbf{\\underline{\\underline{V}}}$ replacing $\\mathbf{\\underline{\\underline{S}}}$, we have."
   ]
  },
  {
   "cell_type": "markdown",
   "id": "e6dcd94f",
   "metadata": {},
   "source": [
    "We can then calculate the enthalpies of reaction from the BEEF-vdW DFT energies\n",
    "\n",
    "\\begin{equation}\n",
    "\\mathbf{\\underline{H}}_{r}=\\mathbf{\\underline{\\underline{S}}}^{\\intercal}\\mathbf{\\underline{H}}_{f}\n",
    "\\end{equation}\n"
   ]
  },
  {
   "cell_type": "code",
   "execution_count": 86,
   "id": "15c99df2",
   "metadata": {},
   "outputs": [
    {
     "data": {
      "text/plain": [
       "array([114.35044557, -32.14329711, -41.82239365,  -6.62057078,\n",
       "       101.42344661,  -3.57918785,   3.56426475,  23.27415922,\n",
       "       -70.38735771,  -8.5702404 , -23.95742905])"
      ]
     },
     "execution_count": 86,
     "metadata": {},
     "output_type": "execute_result"
    }
   ],
   "source": [
    "#Calculate the enthalpies of formation\n",
    "Hrv=V.T.dot(E)\n",
    "Hrv"
   ]
  },
  {
   "cell_type": "markdown",
   "id": "1f7773f1",
   "metadata": {},
   "source": [
    "We select anchor species for each element from the mechanism, in this case $A= C_2H_6, CO, H_2O, Pt(111)$. Since we are creating a local thermochemical network in the DFT energy reference frame, we set the enthalpies of formation of these anchor species to 0. "
   ]
  },
  {
   "cell_type": "code",
   "execution_count": 89,
   "id": "a2379443",
   "metadata": {},
   "outputs": [
    {
     "data": {
      "text/plain": [
       "array([   0.   ,  -68.38 , -238.902, -393.11 ])"
      ]
     },
     "execution_count": 89,
     "metadata": {},
     "output_type": "execute_result"
    }
   ],
   "source": [
    "#Remove the reference species from the row space\n",
    "V_A=V[-4:] # these are the reference species\n",
    "V_hat=V[0:-4] # this is the rest of the stoichiometry matrix\n",
    "\n",
    "#Array of the enthalpies of formation of the anchor species\n",
    "Hf_Av =  np.array( [Hf_A_dict[_] for _ in Hf_A_dict.keys()])\n",
    "Hf_Av"
   ]
  },
  {
   "cell_type": "markdown",
   "id": "a125cc8d",
   "metadata": {},
   "source": [
    "We can then determine the enthalpies of formation of the target species via \n",
    "\n",
    "\\begin{align}\n",
    "      \\mathbf{\\underline{\\hat{H}}}^{A}_{f} & = \\left(\\mathbf{\\underline{\\underline{\\hat{S}}}}^{\\intercal}\\right)^+\\left(\\mathbf{\\underline{\\underline{S}}}^{\\intercal}\\mathbf{\\underline{E}} - \\mathbf{\\underline{\\underline{S}}}^{A^{\\intercal}}\\mathbf{\\underline{H}}^{A}_{f}\\right)\n",
    "\\end{align}\n"
   ]
  },
  {
   "cell_type": "code",
   "execution_count": 93,
   "id": "a8fe5a49",
   "metadata": {},
   "outputs": [],
   "source": [
    "#Calculate the enthalpies of formation of the target species using the pseudo-inverse\n",
    "Hfv= np.linalg.pinv(V_hat.T).dot(Hrv-V_A.T.dot(Hf_Av))\n",
    "\n",
    "targets=species-ref_species\n",
    "\n",
    "#Create a dictionary with the results\n",
    "enthalpies_of_formation = {species[i]: Hf[i] for i in range(len(targets))}\n",
    "#Append the enthalpies of formation of the reference species to the enthalpies of formation dictionary\n",
    "enthalpies_of_formation.update(Hf_A_dict)\n",
    "enthalpies_of_formation_svd = enthalpies_of_formation"
   ]
  },
  {
   "cell_type": "code",
   "execution_count": 94,
   "id": "0f7cac6a",
   "metadata": {},
   "outputs": [
    {
     "name": "stderr",
     "output_type": "stream",
     "text": [
      "<>:31: SyntaxWarning: invalid escape sequence '\\m'\n",
      "<>:47: SyntaxWarning: invalid escape sequence '\\m'\n",
      "<>:48: SyntaxWarning: invalid escape sequence '\\m'\n",
      "<>:49: SyntaxWarning: invalid escape sequence '\\m'\n",
      "<>:50: SyntaxWarning: invalid escape sequence '\\m'\n",
      "<>:51: SyntaxWarning: invalid escape sequence '\\m'\n",
      "<>:52: SyntaxWarning: invalid escape sequence '\\m'\n",
      "<>:53: SyntaxWarning: invalid escape sequence '\\m'\n",
      "<>:54: SyntaxWarning: invalid escape sequence '\\m'\n",
      "<>:55: SyntaxWarning: invalid escape sequence '\\m'\n",
      "<>:56: SyntaxWarning: invalid escape sequence '\\m'\n",
      "<>:57: SyntaxWarning: invalid escape sequence '\\m'\n",
      "<>:31: SyntaxWarning: invalid escape sequence '\\m'\n",
      "<>:47: SyntaxWarning: invalid escape sequence '\\m'\n",
      "<>:48: SyntaxWarning: invalid escape sequence '\\m'\n",
      "<>:49: SyntaxWarning: invalid escape sequence '\\m'\n",
      "<>:50: SyntaxWarning: invalid escape sequence '\\m'\n",
      "<>:51: SyntaxWarning: invalid escape sequence '\\m'\n",
      "<>:52: SyntaxWarning: invalid escape sequence '\\m'\n",
      "<>:53: SyntaxWarning: invalid escape sequence '\\m'\n",
      "<>:54: SyntaxWarning: invalid escape sequence '\\m'\n",
      "<>:55: SyntaxWarning: invalid escape sequence '\\m'\n",
      "<>:56: SyntaxWarning: invalid escape sequence '\\m'\n",
      "<>:57: SyntaxWarning: invalid escape sequence '\\m'\n",
      "/tmp/ipykernel_1899416/2447534599.py:31: SyntaxWarning: invalid escape sequence '\\m'\n",
      "  ax0.set_ylabel('$\\mathrm{enthalpy\\ (kJ\\,mol^{-1})}$')\n",
      "/tmp/ipykernel_1899416/2447534599.py:47: SyntaxWarning: invalid escape sequence '\\m'\n",
      "  tags=('$\\mathbf{CH_3CH_3}$\\n$\\mathbf{CO_2}$',\n",
      "/tmp/ipykernel_1899416/2447534599.py:48: SyntaxWarning: invalid escape sequence '\\m'\n",
      "  '$\\mathbf{CH_3CH_3^*}$\\n$\\mathbf{CO_2}$',\n",
      "/tmp/ipykernel_1899416/2447534599.py:49: SyntaxWarning: invalid escape sequence '\\m'\n",
      "  '$\\mathbf{CH_3CH_3^*}$\\n$\\mathbf{CO_2^*}$',\n",
      "/tmp/ipykernel_1899416/2447534599.py:50: SyntaxWarning: invalid escape sequence '\\m'\n",
      "  '$\\mathbf{^*CH_2CH_3}$\\n$\\mathbf{CO_2^*}$\\n$\\mathbf{^*H}$',\n",
      "/tmp/ipykernel_1899416/2447534599.py:51: SyntaxWarning: invalid escape sequence '\\m'\n",
      "  '$\\mathbf{^*CH_2^*CH_2}$\\n$\\mathbf{CO_2^*}$\\n$\\mathbf{2 ^*H}$',\n",
      "/tmp/ipykernel_1899416/2447534599.py:52: SyntaxWarning: invalid escape sequence '\\m'\n",
      "  '$\\mathbf{^*CH_2^*CH_2}$\\n$\\mathbf{^*CO}$\\n$\\mathbf{^*O}$\\n$\\mathbf{2 ^*H}$',\n",
      "/tmp/ipykernel_1899416/2447534599.py:53: SyntaxWarning: invalid escape sequence '\\m'\n",
      "  '$\\mathbf{^*CH_2^*CH_2}$\\n$\\mathbf{^*CO}$\\n$\\mathbf{^*OH}$\\n$\\mathbf{^*H}$',\n",
      "/tmp/ipykernel_1899416/2447534599.py:54: SyntaxWarning: invalid escape sequence '\\m'\n",
      "  '$\\mathbf{^*CH_2^*CH_2}$\\n$\\mathbf{^*CO}$\\n$\\mathbf{H_2O^*}$',\n",
      "/tmp/ipykernel_1899416/2447534599.py:55: SyntaxWarning: invalid escape sequence '\\m'\n",
      "  '$\\mathbf{CH_2CH_2}$\\n$\\mathbf{^*CO}$\\n$\\mathbf{H_2O^*}$',\n",
      "/tmp/ipykernel_1899416/2447534599.py:56: SyntaxWarning: invalid escape sequence '\\m'\n",
      "  '$\\mathbf{CH_2CH_2}$\\n$\\mathbf{CO}$\\n$\\mathbf{H_2O^*}$',\n",
      "/tmp/ipykernel_1899416/2447534599.py:57: SyntaxWarning: invalid escape sequence '\\m'\n",
      "  '$\\mathbf{CH_2CH_2}$\\n$\\mathbf{CO}$\\n$\\mathbf{H_2O}$',\n"
     ]
    },
    {
     "data": {
      "image/png": "[encoded data removed]",
      "text/plain": [
       "<Figure size 1400x800 with 1 Axes>"
      ]
     },
     "metadata": {},
     "output_type": "display_data"
    }
   ],
   "source": [
    "plt.rcParams['figure.figsize'] = (14, 8)\n",
    "plt.rcParams['axes.linewidth'] = 3\n",
    "plt.rc('xtick', labelsize=20)\n",
    "plt.rc('ytick', labelsize=20)\n",
    "plt.rc('axes', labelsize=20)\n",
    "plt.rc('legend', fontsize=20)\n",
    "plt.rcParams['lines.markersize'] = 10\n",
    "plt.rcParams['lines.linewidth'] = 4\n",
    "plt.rcParams['xtick.direction'] = 'in'\n",
    "plt.rcParams['ytick.direction'] = 'in'\n",
    "plt.rcParams['xtick.major.size'] = 10\n",
    "plt.rcParams['xtick.major.width'] = 2\n",
    "plt.rcParams['ytick.major.size'] = 10\n",
    "plt.rcParams['ytick.major.width'] = 2\n",
    "plt.rcParams['legend.edgecolor'] = 'k'\n",
    "plt.rcParams['axes.unicode_minus'] = False\n",
    "plt.rcParams[\"legend.framealpha\"] = 1\n",
    "plt.rcParams['xtick.major.pad'] = 8\n",
    "plt.rcParams['ytick.major.pad'] = 8\n",
    "\n",
    "gs = gridspec.GridSpec(nrows=1, ncols=1)\n",
    "gs.update(wspace=0.5, hspace=0.5)\n",
    "ax0 = plt.subplot(gs[0, 0])\n",
    "\n",
    "#ax0.set_ylim([-200,200])\n",
    "ax0.set_xlim([-1,44])\n",
    "ax0.get_xaxis().set_visible(False)\n",
    "ax0.spines['right'].set_visible(False)\n",
    "ax0.spines['top'].set_visible(False)\n",
    "ax0.spines['bottom'].set_visible(False)\n",
    "ax0.set_ylabel('$\\mathrm{enthalpy\\ (kJ\\,mol^{-1})}$')\n",
    "\n",
    "\n",
    "mechanism=({'C2H6':1,'CO2':1},\n",
    "    {'C2H6X':1,'CO2':1},\n",
    "    {'C2H6X':1,'CO2X':1},\n",
    "    {'XCH2CH3':1,'CO2X':1,'XH':1},\n",
    "    {'XCH2XCH2':1,'CO2X':1,'XH':2},\n",
    "    {'XCH2XCH2':1,'XCO':1,'XO':1,'XH':2},\n",
    "    {'XCH2XCH2':1,'XCO':1,'XOH':1,'XH':1},\n",
    "    {'XCH2XCH2':1,'XCO':1,'H2OX':1},\n",
    "    {'C2H4':1,'XCO':1,'H2OX':1},\n",
    "    {'C2H4':1,'CO':1,'H2OX':1}, \n",
    "    {'C2H4':1,'CO':1,'H2O':1},\n",
    "    )\n",
    "\n",
    "tags=('$\\mathbf{CH_3CH_3}$\\n$\\mathbf{CO_2}$',\n",
    "      '$\\mathbf{CH_3CH_3^*}$\\n$\\mathbf{CO_2}$',\n",
    "      '$\\mathbf{CH_3CH_3^*}$\\n$\\mathbf{CO_2^*}$',\n",
    "      '$\\mathbf{^*CH_2CH_3}$\\n$\\mathbf{CO_2^*}$\\n$\\mathbf{^*H}$',\n",
    "      '$\\mathbf{^*CH_2^*CH_2}$\\n$\\mathbf{CO_2^*}$\\n$\\mathbf{2 ^*H}$',\n",
    "      '$\\mathbf{^*CH_2^*CH_2}$\\n$\\mathbf{^*CO}$\\n$\\mathbf{^*O}$\\n$\\mathbf{2 ^*H}$',\n",
    "      '$\\mathbf{^*CH_2^*CH_2}$\\n$\\mathbf{^*CO}$\\n$\\mathbf{^*OH}$\\n$\\mathbf{^*H}$',\n",
    "      '$\\mathbf{^*CH_2^*CH_2}$\\n$\\mathbf{^*CO}$\\n$\\mathbf{H_2O^*}$',\n",
    "      '$\\mathbf{CH_2CH_2}$\\n$\\mathbf{^*CO}$\\n$\\mathbf{H_2O^*}$',\n",
    "      '$\\mathbf{CH_2CH_2}$\\n$\\mathbf{CO}$\\n$\\mathbf{H_2O^*}$',\n",
    "      '$\\mathbf{CH_2CH_2}$\\n$\\mathbf{CO}$\\n$\\mathbf{H_2O}$',\n",
    ")\n",
    "\n",
    "# Function to compute the sum for each step in the mechanism\n",
    "def compute_sum(vec,dictionary):\n",
    "    return sum(vec[key] * value for key, value in dictionary.items())\n",
    "\n",
    "def ediagram(ref_system):\n",
    "    system = [compute_sum(ref_system,entry) for entry in mechanism]\n",
    "    rel_EOFs=np.zeros(len(system))\n",
    "    for i, Hf_i in enumerate(system):\n",
    "        start = i * 4\n",
    "        end = start + 3\n",
    "        ax0.plot((start, end), (Hf_i-system[0], Hf_i-system[0]), linestyle='solid', color='b')\n",
    "        if i>0:\n",
    "            ax0.plot((start-1,start),(system[i-1]-system[0],Hf_i-system[0]),linestyle='dashed',color='b', linewidth=1)\n",
    "        rel_EOFs[i]=Hf_i-system[0]\n",
    "    return rel_EOFs\n",
    "\n",
    "values=ediagram(enthalpies_of_formation)\n",
    "values=ediagram(enthalpies_of_formation_global)\n",
    "values=ediagram(enthalpies_of_formation_svd)\n",
    "\n",
    "for i in range(len(np.array(values).T)):\n",
    "    start = i * 4\n",
    "    ax0.text(start+1.5,np.array(values).T[i]-5,tags[i],va='top',ha='center',size=12)"
   ]
  }
 ],
 "metadata": {
  "kernelspec": {
   "display_name": "Python 3 (ipykernel)",
   "language": "python",
   "name": "python3"
  },
  "language_info": {
   "codemirror_mode": {
    "name": "ipython",
    "version": 3
   },
   "file_extension": ".py",
   "mimetype": "text/x-python",
   "name": "python",
   "nbconvert_exporter": "python",
   "pygments_lexer": "ipython3",
   "version": "3.12.1"
  }
 },
 "nbformat": 4,
 "nbformat_minor": 5
}
