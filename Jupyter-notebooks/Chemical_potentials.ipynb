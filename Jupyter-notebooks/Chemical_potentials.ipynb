{
 "cells": [
  {
   "cell_type": "markdown",
   "id": "1a295666",
   "metadata": {},
   "source": [
    "Supplementary notebook to the manuscript \"Unifying thermochemistry concepts in computational heterogeneous catalysis\", by Dr. Bjarne Kreitz (Brown University), Dr. Gabriel Gusmao (Georgia Tech), Dr. David H. Bross (Argonne National Laboratory), Dingqi Nai (Georgia Tech), Jagriti Sahoo (Georgia Tech), Dr. C. Franklin Goldsmith (Brown University), Dr. Andrew J. Medford (Georgia Tech). \n",
    "\n",
    "Correspondence to Bjarne Kreitz (bjarne_kreitz@brown.edu) and Andrew J. Medford (ajm@gatech.edu)"
   ]
  },
  {
   "cell_type": "code",
   "execution_count": 2,
   "id": "029c84c1",
   "metadata": {},
   "outputs": [],
   "source": [
    "import numpy as np\n",
    "import matplotlib.pyplot as plt\n",
    "import matplotlib.gridspec as gridspec\n",
    "\n",
    "eV_to_kJmol=96.485"
   ]
  },
  {
   "cell_type": "markdown",
   "id": "7fc2e346",
   "metadata": {},
   "source": [
    "# Reference QM data to a set of anchor species using elemental chemical potentials\n",
    "\n",
    "Enthalpies of formation of species (gas phase or adsorbed) can be calculated from the DFT energies by anchoring them to a set of reference species. A reference species is selected for every element to form an atomic basis set for the target species. These reference species are combined in a hypothetical reaction to form the target $P$, which is a generic $C_x H_y O_z$ gas-phase species or $C_x H_y O_z^*$ adsorbate. Common choices of reference species are $[CH_4, H_2, H_2O]$ and in the case of Pt(111), the empty slab has to be added as a reference species.\n",
    "\n",
    "\\begin{equation}\n",
    "    \\nu_{\\text{C}} C + \\nu_{\\text{H}} H + \\nu_{\\text{O}} O + \\nu_{\\text{*}} * \\rightarrow P\n",
    "\\end{equation}\n",
    "\n",
    "\n",
    "The enthalpy of formation of the target can be determined from the DFT energies using the chemical potentials via\n",
    "\n",
    "\\begin{equation}\n",
    "    \\Delta_{\\text{A}} H_{\\text{P}} (0 K) =E_{\\text{P}} - \\sum_{k}^{N_{elements}} \\nu_k  \\mu_{k}^{\\text{A}}\n",
    "\\end{equation}\n",
    "\n",
    "In matrix notation this reads as\n",
    "\n",
    "\\begin{equation}\n",
    "    \\mathbf{\\underline{H}}_{\\text{A}}=\\mathbf{\\underline{E}}-\\mathbf{\\underline{\\underline{N}}}\\,\\mathbf{\\underline{\\mu}}^{\\text{A}}\n",
    "\\end{equation}\n",
    "\n",
    "where $\\mathbf{\\underline{\\underline{N}}}$ is the elemental composition matrix of the target species. \n",
    "\n",
    "Theoretically, it is possible to just use the DFT energies of the bare elements as the chemical potentials. \n",
    "However, it is impossible to calculate these accurately with DFT. Instead, we use calculate the elemental chemical potential from closed-shell reference species such as $[CH_4, H_2, H_2O]$ and in the case of Pt(111), the empty slab has to be added as a reference species. The chemical potentials can be derived via\n",
    "\n",
    "\\begin{align}\n",
    "    &\\mu_{\\text{C}}=E_{CH_4}-2E_{H_2}\\\\\n",
    "    &\\mu_{\\text{O}}=E_{H_2O}-E_{H_2}\\\\\n",
    "    &\\mu_{\\text{H}}=0.5E_{H_2} \\\\\n",
    "    &\\mu_{\\text{*}}=E_{Pt(111)}\n",
    "\\end{align}\n",
    "\n",
    "It is also possible to use linear algebra to determine the elemental chemical potentials with the inverse of the elemental composition matrix of the reference species. \n",
    "\n",
    "\\begin{equation}\n",
    " \\mathbf{\\underline{\\mu}}=\\mathbf{\\underline{\\underline{N}}}^{\\text{A}^{-1}}\\,\\mathbf{\\underline{E}}^\\text{A}\n",
    "\\end{equation}"
   ]
  },
  {
   "cell_type": "markdown",
   "id": "c3d55e10",
   "metadata": {},
   "source": [
    "This is the list of species with their DFT energies from BEEF-vdW for which we want to compute the enthalpies of formation. We can create a vector $\\mathbf{\\underline{E}}$ that contains the energies from this dictionary."
   ]
  },
  {
   "cell_type": "code",
   "execution_count": 3,
   "id": "15d0adc2",
   "metadata": {},
   "outputs": [],
   "source": [
    "#Target species for which we need to compute the EOFs\n",
    "species_energies = {\n",
    "    \"C2H6\": -615.3019939,\n",
    "    \"C2H6X\" : -378231.5655,\n",
    "    \"XH\": -377632.6636,\n",
    "    \"XCH2CH3\": -378214.9168,\n",
    "    \"XO\": -378193.2832,\n",
    "    \"XCH2XCH2\": -378198.4442,\n",
    "    \"XCO\": -378453.0261, \n",
    "    \"CO2X\": -379030.8164,\n",
    "    \"CO2\": -1414.682864,\n",
    "    \"XOH\": -378209.8045,\n",
    "    \"H2OX\": -378227.2801,\n",
    "    \"CO\": -835.5389907,\n",
    "    \"C2H4\":-581.44565067567,   \n",
    "    \"CH4\": -324.2935569,\n",
    "    \"H2\": -32.69844421, \n",
    "    \"H2O\": -611.0186083,\n",
    "    \"X\": -377616.072,\n",
    "}\n",
    "\n",
    "#vector of DFT energies of the target species from the dictionary\n",
    "E=np.array(list(species_energies.values()))"
   ]
  },
  {
   "cell_type": "markdown",
   "id": "9064efab",
   "metadata": {},
   "source": [
    "We want to determine the enthalpies of formation with reference to $[CH_4, H_2, H_2O, Pt(111)]$. For which we determined the DFT energies. We construct the vector $\\mathbf{\\underline{E}}^{\\text{A}}$ that contains the DFT energies of the reference species"
   ]
  },
  {
   "cell_type": "code",
   "execution_count": 4,
   "id": "341ffd53",
   "metadata": {},
   "outputs": [],
   "source": [
    "ref_energies = {\n",
    "    \"CH4\": -324.2935569,\n",
    "    \"H2\": -32.69844421, \n",
    "    \"H2O\": -611.0186083,\n",
    "    \"X\": -377616.072,\n",
    "}\n",
    "\n",
    "#vector of DFT energies of the reference species from the dictionary\n",
    "E_A=np.array(list(ref_energies.values()))"
   ]
  },
  {
   "cell_type": "markdown",
   "id": "923416d1",
   "metadata": {},
   "source": [
    "We start now with constructing the elemental composition matrix of our target species $\\mathbf{\\underline{\\underline{N}}}$, which is an $m \\times n$ matrix with $m$ target species and $n$ elements. "
   ]
  },
  {
   "cell_type": "code",
   "execution_count": 5,
   "id": "238d3a12",
   "metadata": {},
   "outputs": [
    {
     "data": {
      "text/plain": [
       "array([[2., 6., 0., 0.],\n",
       "       [2., 6., 0., 1.],\n",
       "       [0., 1., 0., 1.],\n",
       "       [2., 5., 0., 1.],\n",
       "       [0., 0., 1., 1.],\n",
       "       [2., 4., 0., 1.],\n",
       "       [1., 0., 1., 1.],\n",
       "       [1., 0., 2., 1.],\n",
       "       [1., 0., 2., 0.],\n",
       "       [0., 1., 1., 1.],\n",
       "       [0., 2., 1., 1.],\n",
       "       [1., 0., 1., 0.],\n",
       "       [2., 4., 0., 0.],\n",
       "       [1., 4., 0., 0.],\n",
       "       [0., 2., 0., 0.],\n",
       "       [0., 2., 1., 0.],\n",
       "       [0., 0., 0., 1.]])"
      ]
     },
     "execution_count": 5,
     "metadata": {},
     "output_type": "execute_result"
    }
   ],
   "source": [
    "# Define the species and their elemental compositions in a dictionary\n",
    "species_compositions = {\n",
    "    \"C2H6\": {\"C\": 2, \"H\": 6, \"O\": 0, \"X\": 0},\n",
    "    \"C2H6X\": {\"C\": 2, \"H\": 6, \"O\": 0, \"X\": 1},\n",
    "    \"XH\": {\"C\": 0, \"H\": 1, \"O\": 0, \"X\": 1},\n",
    "    \"XCH2CH3\": {\"C\": 2, \"H\": 5, \"O\": 0, \"X\": 1},\n",
    "    \"XO\": {\"C\": 0, \"H\": 0, \"O\": 1, \"X\": 1},\n",
    "    \"XCH2XCH2\": {\"C\": 2, \"H\": 4, \"O\": 0, \"X\": 1},\n",
    "    \"XCO\": {\"C\": 1, \"H\": 0, \"O\": 1, \"X\": 1},\n",
    "    \"CO2X\": {\"C\": 1, \"H\": 0, \"O\": 2, \"X\": 1},\n",
    "    \"CO2\": {\"C\": 1, \"H\": 0, \"O\": 2, \"X\": 0},\n",
    "    \"XOH\": {\"C\": 0, \"H\": 1, \"O\": 1, \"X\": 1},\n",
    "    \"H2OX\": {\"C\": 0, \"H\": 2, \"O\": 1, \"X\": 1},\n",
    "    \"CO\": {\"C\": 1, \"H\": 0, \"O\": 1, \"X\": 0},\n",
    "    \"C2H4\": {\"C\": 2, \"H\": 4, \"O\": 0, \"X\": 0},\n",
    "    \"CH4\": {\"C\": 1, \"H\": 4, \"O\": 0, \"X\": 0},\n",
    "    \"H2\": {\"C\": 0, \"H\": 2, \"O\": 0, \"X\": 0},\n",
    "    \"H2O\": {\"C\": 0, \"H\": 2, \"O\": 1, \"X\": 0},\n",
    "    \"X\": {\"C\": 0, \"H\": 0, \"O\": 0, \"X\": 1},\n",
    "}\n",
    "\n",
    "species=list(species_compositions.keys())\n",
    "\n",
    "\n",
    "# Create a matrix to hold the elemental compositions of the target species\n",
    "num_species = len(species_compositions)\n",
    "num_elements = 4  # C, H, O, X\n",
    "N = np.zeros((num_species, num_elements))\n",
    "\n",
    "# Fill in the elemental composition matrix of the target species\n",
    "for s, composition in species_compositions.items():\n",
    "    i = species.index(s)\n",
    "    N[i, :] = [composition[\"C\"], composition[\"H\"], composition[\"O\"], composition[\"X\"]]\n",
    "    \n",
    "N"
   ]
  },
  {
   "cell_type": "markdown",
   "id": "f64c2121",
   "metadata": {},
   "source": [
    "We construct the elemental composition matrix of our reference species $\\mathbf{\\underline{\\underline{N}}}^A$, which is an $m \\times n$ matrix with $m$ reference species and $n$ elements. "
   ]
  },
  {
   "cell_type": "code",
   "execution_count": 7,
   "id": "52fc41aa",
   "metadata": {},
   "outputs": [
    {
     "data": {
      "text/plain": [
       "array([[1., 4., 0., 0.],\n",
       "       [0., 2., 0., 0.],\n",
       "       [0., 2., 1., 0.],\n",
       "       [0., 0., 0., 1.]])"
      ]
     },
     "execution_count": 7,
     "metadata": {},
     "output_type": "execute_result"
    }
   ],
   "source": [
    "# Define the species and their elemental compositions in a dictionary\n",
    "references_compositions = {\n",
    "    \"CH4\": {\"C\": 1, \"H\": 4, \"O\": 0, \"X\": 0},\n",
    "    \"H2\": {\"C\": 0, \"H\": 2, \"O\": 0, \"X\": 0},\n",
    "    \"H2O\": {\"C\": 0, \"H\": 2, \"O\": 1, \"X\": 0},\n",
    "    \"X\": {\"C\": 0, \"H\": 0, \"O\": 0, \"X\": 1},\n",
    "}\n",
    "\n",
    "references=list(references_compositions.keys())\n",
    "\n",
    "# Create a matrix to hold the elemental compositions of the reference species\n",
    "num_references = len(references_compositions)\n",
    "N_A = np.zeros((num_references, num_elements))\n",
    "\n",
    "# Fill in the elemental composition matrix of the reference species\n",
    "for s, composition in references_compositions.items():\n",
    "    i = references.index(s)\n",
    "    N_A[i, :] = [composition[\"C\"], composition[\"H\"], composition[\"O\"], composition[\"X\"]]\n",
    "    \n",
    "N_A"
   ]
  },
  {
   "cell_type": "markdown",
   "id": "81b1ca21",
   "metadata": {},
   "source": [
    "We can now determine $\\mathbf{\\underline{\\mu}}^{\\text{A}}$ from the inverse of elemental composition matrix of the reference species $\\mathbf{\\underline{\\underline{N}}}^{\\text{A}}$ via\n",
    "\n",
    "\\begin{equation}\n",
    " \\mathbf{\\underline{\\mu}^{\\text{A}}}=\\mathbf{\\underline{\\underline{N}}}^{\\text{A}^{-1}}\\,\\mathbf{\\underline{E}}^{\\text{A}}\n",
    "\\end{equation}"
   ]
  },
  {
   "cell_type": "code",
   "execution_count": 9,
   "id": "70773be9",
   "metadata": {},
   "outputs": [
    {
     "data": {
      "text/plain": [
       "{'C': -258.89666848,\n",
       " 'H': -16.349222105,\n",
       " 'O': -578.3201640899999,\n",
       " 'X': -377616.072}"
      ]
     },
     "execution_count": 9,
     "metadata": {},
     "output_type": "execute_result"
    }
   ],
   "source": [
    "#Calculate the matrix of stoichiometric coefficients to form the target from the reference species\n",
    "mu=(np.linalg.inv(N_A)).dot(E_A)\n",
    "elements=['C','H','O','X']\n",
    "\n",
    "#Create a dictionary with the results\n",
    "chemical_potentials = {elements[i]: mu[i] for i in range(len(elements))}\n",
    "chemical_potentials"
   ]
  },
  {
   "cell_type": "markdown",
   "id": "7bce2ffa",
   "metadata": {},
   "source": [
    "The last step is to compute the enthalpies of formation using the matrix of stoichiometric coefficients of the formation reactions and the DFT energies of the target species and references\n",
    "\n",
    "\\begin{equation}\n",
    "    \\mathbf{\\underline{H}}_{\\text{A}}=\\mathbf{\\underline{E}}-\\mathbf{\\underline{\\underline{N}}}\\,\\mathbf{\\underline{\\mu}}^{\\text{A}}\n",
    "\\end{equation}\n"
   ]
  },
  {
   "cell_type": "code",
   "execution_count": 10,
   "id": "f3bbb4a2",
   "metadata": {},
   "outputs": [
    {
     "data": {
      "text/plain": [
       "{'C2H6': 56.60540394966027,\n",
       " 'C2H6X': 38.12793788724724,\n",
       " 'XH': -23.38583120360563,\n",
       " 'XCH2CH3': 67.02306258857047,\n",
       " 'XO': 106.99840022391058,\n",
       " 'XCH2XCH2': 78.92717878597584,\n",
       " 'XCO': 25.349752010967933,\n",
       " 'CO2X': 76.47368873743049,\n",
       " 'CO2': 82.41098970007852,\n",
       " 'XOH': 90.39546452235372,\n",
       " 'H2OX': -18.283106671951536,\n",
       " 'CO': 161.88657282694535,\n",
       " 'C2H4': 168.32529034728336,\n",
       " 'CH4': 0.0,\n",
       " 'H2': 0.0,\n",
       " 'H2O': 0.0,\n",
       " 'X': 0.0}"
      ]
     },
     "execution_count": 10,
     "metadata": {},
     "output_type": "execute_result"
    }
   ],
   "source": [
    "#Determine the enthalpy of formation of the target\n",
    "Hf=(E-N.dot(mu))*eV_to_kJmol\n",
    "\n",
    "#Create a dictionary with the results\n",
    "enthalpies_of_formation = {species[i]: Hf[i] for i in range(len(species))}\n",
    "\n",
    "\n",
    "enthalpies_of_formation"
   ]
  },
  {
   "cell_type": "code",
   "execution_count": 11,
   "id": "90215516",
   "metadata": {},
   "outputs": [
    {
     "data": {
      "image/png": "[encoded data removed]",
      "text/plain": [
       "<Figure size 1400x800 with 1 Axes>"
      ]
     },
     "metadata": {},
     "output_type": "display_data"
    }
   ],
   "source": [
    "plt.rcParams['figure.figsize'] = (14, 8)\n",
    "plt.rcParams['axes.linewidth'] = 3\n",
    "plt.rc('xtick', labelsize=20)\n",
    "plt.rc('ytick', labelsize=20)\n",
    "plt.rc('axes', labelsize=20)\n",
    "plt.rc('legend', fontsize=20)\n",
    "plt.rcParams['lines.markersize'] = 10\n",
    "plt.rcParams['lines.linewidth'] = 4\n",
    "plt.rcParams['xtick.direction'] = 'in'\n",
    "plt.rcParams['ytick.direction'] = 'in'\n",
    "plt.rcParams['xtick.major.size'] = 10\n",
    "plt.rcParams['xtick.major.width'] = 2\n",
    "plt.rcParams['ytick.major.size'] = 10\n",
    "plt.rcParams['ytick.major.width'] = 2\n",
    "plt.rcParams['legend.edgecolor'] = 'k'\n",
    "plt.rcParams['axes.unicode_minus'] = False\n",
    "plt.rcParams[\"legend.framealpha\"] = 1\n",
    "plt.rcParams['xtick.major.pad'] = 8\n",
    "plt.rcParams['ytick.major.pad'] = 8\n",
    "plt.rcParams['legend.handletextpad'] = 0.2\n",
    "plt.rcParams['legend.columnspacing'] = 0.1\n",
    "plt.rcParams['legend.labelspacing'] = 0.1\n",
    "plt.rcParams['legend.title_fontsize'] = 14\n",
    "plt.rcParams['axes.formatter.limits'] = (-3, 6)\n",
    "\n",
    "\n",
    "gs = gridspec.GridSpec(nrows=1, ncols=1)\n",
    "gs.update(wspace=0.5, hspace=0.5)\n",
    "ax0 = plt.subplot(gs[0, 0])\n",
    "\n",
    "ax0.set_ylim([-200,200])\n",
    "ax0.set_xlim([-1,44])\n",
    "ax0.get_xaxis().set_visible(False)\n",
    "ax0.spines['right'].set_visible(False)\n",
    "ax0.spines['top'].set_visible(False)\n",
    "ax0.spines['bottom'].set_visible(False)\n",
    "ax0.set_ylabel('$\\mathrm{enthalpy\\ (kJ\\,mol^{-1})}$')\n",
    "\n",
    "\n",
    "mechanism=({'C2H6':1,'CO2':1},\n",
    "    {'C2H6X':1,'CO2':1},\n",
    "    {'C2H6X':1,'CO2X':1},\n",
    "    {'XCH2CH3':1,'CO2X':1,'XH':1},\n",
    "    {'XCH2XCH2':1,'CO2X':1,'XH':2},\n",
    "    {'XCH2XCH2':1,'XCO':1,'XO':1,'XH':2},\n",
    "    {'XCH2XCH2':1,'XCO':1,'XOH':1,'XH':1},\n",
    "    {'XCH2XCH2':1,'XCO':1,'H2OX':1},\n",
    "    {'C2H4':1,'XCO':1,'H2OX':1},\n",
    "    {'C2H4':1,'CO':1,'H2OX':1}, \n",
    "    {'C2H4':1,'CO':1,'H2O':1},\n",
    "    )\n",
    "\n",
    "tags=('$\\mathbf{CH_3CH_3}$\\n$\\mathbf{CO_2}$',\n",
    "      '$\\mathbf{CH_3CH_3^*}$\\n$\\mathbf{CO_2}$',\n",
    "      '$\\mathbf{CH_3CH_3^*}$\\n$\\mathbf{CO_2^*}$',\n",
    "      '$\\mathbf{^*CH_2CH_3}$\\n$\\mathbf{CO_2^*}$\\n$\\mathbf{^*H}$',\n",
    "      '$\\mathbf{^*CH_2^*CH_2}$\\n$\\mathbf{CO_2^*}$\\n$\\mathbf{2 ^*H}$',\n",
    "      '$\\mathbf{^*CH_2^*CH_2}$\\n$\\mathbf{^*CO}$\\n$\\mathbf{^*O}$\\n$\\mathbf{2 ^*H}$',\n",
    "      '$\\mathbf{^*CH_2^*CH_2}$\\n$\\mathbf{^*CO}$\\n$\\mathbf{^*OH}$\\n$\\mathbf{^*H}$',\n",
    "      '$\\mathbf{^*CH_2^*CH_2}$\\n$\\mathbf{^*CO}$\\n$\\mathbf{H_2O^*}$',\n",
    "      '$\\mathbf{CH_2CH_2}$\\n$\\mathbf{^*CO}$\\n$\\mathbf{H_2O^*}$',\n",
    "      '$\\mathbf{CH_2CH_2}$\\n$\\mathbf{CO}$\\n$\\mathbf{H_2O^*}$',\n",
    "      '$\\mathbf{CH_2CH_2}$\\n$\\mathbf{CO}$\\n$\\mathbf{H_2O}$',\n",
    ")\n",
    "\n",
    "# Function to compute the sum for each step in the mechanism\n",
    "def compute_sum(vec,dictionary):\n",
    "    return sum(vec[key] * value for key, value in dictionary.items())\n",
    "\n",
    "def ediagram(ref_system):\n",
    "    system = [compute_sum(ref_system,entry) for entry in mechanism]\n",
    "    rel_EOFs=np.zeros(len(system))\n",
    "    for i, Hf_i in enumerate(system):\n",
    "        start = i * 4\n",
    "        end = start + 3\n",
    "        ax0.plot((start, end), (Hf_i-system[0], Hf_i-system[0]), linestyle='solid', color='b')\n",
    "        if i>0:\n",
    "            ax0.plot((start-1,start),(system[i-1]-system[0],Hf_i-system[0]),linestyle='dashed',color='b', linewidth=1)\n",
    "        rel_EOFs[i]=Hf_i-system[0]\n",
    "    return rel_EOFs\n",
    "\n",
    "values=ediagram(enthalpies_of_formation)\n",
    "\n",
    "for i in range(len(np.array(values).T)):\n",
    "    start = i * 4\n",
    "    ax0.text(start+1.5,np.array(values).T[i]-5,tags[i],va='top',ha='center',size=12)"
   ]
  }
 ],
 "metadata": {
  "kernelspec": {
   "display_name": "Python 3 (ipykernel)",
   "language": "python",
   "name": "python3"
  },
  "language_info": {
   "codemirror_mode": {
    "name": "ipython",
    "version": 3
   },
   "file_extension": ".py",
   "mimetype": "text/x-python",
   "name": "python",
   "nbconvert_exporter": "python",
   "pygments_lexer": "ipython3",
   "version": "3.7.12"
  }
 },
 "nbformat": 4,
 "nbformat_minor": 5
}
